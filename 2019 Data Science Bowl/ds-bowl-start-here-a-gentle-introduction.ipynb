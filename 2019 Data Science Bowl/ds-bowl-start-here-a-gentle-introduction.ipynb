{
 "cells": [
  {
   "cell_type": "markdown",
   "metadata": {},
   "source": [
    "## 2019 Data Science Bowl\n",
    "#### Uncover the factors to help measure how young children learn\n",
    "[Crislânio Macêdo](https://www.linkedin.com/in/crislanio/) -  January, 02th, 2020\n",
    "\n",
    "[Github](https://github.com/crislanio)  ________________[Sapere Aude Tech](https://medium.com/sapere-aude-tech) ________________[AboutMe](https://crislanio.wordpress.com/about)________________[Twitter](https://twitter.com/crs_macedo)________________[Ensina.AI](https://medium.com/ensina-ai/an%C3%A1lise-dos-dados-abertos-do-governo-federal-ba65af8c421c)________________[Quora](https://www.quora.com/profile/Crislanio)________________[Hackerrank](https://www.hackerrank.com/crislanio_ufc)\n",
    "\n",
    "📒 EDA: [📒👦👧 DS Bowl - Start here: A GENTLE Introduction](https://www.kaggle.com/caesarlupum/ashrae-start-here-a-gentle-introduction)\n",
    "\n",
    "----------\n",
    "----------"
   ]
  },
  {
   "cell_type": "markdown",
   "metadata": {
    "_cell_guid": "b1076dfc-b9ad-4769-8c92-a6c4dae69d19",
    "_uuid": "8f2839f25d086af736a60e9eeb907d3b93b6e0e5"
   },
   "source": [
    "![](http://www.gpb.org/sites/www.gpb.org/files/styles/hero_image/public/blogs/images/2018/08/07/maxresdefault.jpg?itok=gN6ErLyU)\n",
    "## [📒👦👧 DS Bowl - Start here: A GENTLE Introduction](https://www.kaggle.com/caesarlupum/ds-bowl-start-here-a-gentle-introduction)"
   ]
  },
  {
   "cell_type": "markdown",
   "metadata": {},
   "source": [
    "# Content"
   ]
  },
  {
   "cell_type": "markdown",
   "metadata": {},
   "source": [
    "### 📒In this kernel I want to show a Exhaustive Analysis of  DS Bowl, with:\n",
    "\n",
    "- <a href='#1'>1. Where does the data for the competition come from?</a>\n",
    "- <a href='#2'>2. Data Description</a>\n",
    "- <a href='#3'>3. Read in Data </a>\n",
    "- <a href='#4'>4. Glimpse of Data </a>\n",
    "- <a href='#5'>5. Insights </a>\n",
    "- <a href='#6'>6. Exploratory Data Analysis </a>\n",
    "- <a href='#7'>7. Column Types </a>\n",
    "    - <a href='#7-1'>7.1 Number of each type of column - Train </a>\n",
    "    - <a href='#7-2'>7.2 Number of unique classes in each object column  - Train </a>\n",
    "    - <a href='#7-3'>7.3 Number of each type of column - Train_labels </a>\n",
    "    - <a href='#7-4'>7.4 Number of each type of column - Train_labels </a>\n",
    "    - <a href='#7-5'>7.5 Number of unique classes in each object column  - Train_labels </a>\n",
    "    - <a href='#7-6'>7.6 Number of each type of column - Specs </a>\n",
    "    - <a href='#7-7'>7.7 Number of unique classes in each object column  - Specs </a>\n",
    "- <a href='#8'>8. Examine Missing Values </a>\n",
    "- <a href='#9'>9. Correlations </a>\n",
    "- <a href='#10'>10. Ploting </a>\n",
    "- <a href='#11'>11. Simple Baseline </a>\n",
    "- <a href='#12'>12. Simple LGBM aggregated data with CV </a>\n",
    "- <a href='#13'>13. Submission </a>\n",
    "- <a href='#14'>14. Evaluation </a>\n",
    "- <a href='#15'>15. Links for the Game </a>\n",
    "- <a href='#16'>General findings </a>\n"
   ]
  },
  {
   "cell_type": "markdown",
   "metadata": {
    "_cell_guid": "79c7e3d0-c299-4dcb-8224-4455121ee9b0",
    "_uuid": "d629ff2d2480ee46fbb7e2d37f6b5fab8052498a",
    "collapsed": true
   },
   "source": [
    "### Illuminate Learning. Ignite Possibilities.\n",
    "Uncover new insights in early childhood education and how media can support learning outcomes. Participate in our fifth annual Data Science Bowl, presented by Booz Allen Hamilton and Kaggle.\n",
    "\n",
    "PBS KIDS, a trusted name in early childhood education for decades, aims to gain insights into how media can help children learn important skills for success in school and life. In this challenge, you’ll use anonymous gameplay data, including knowledge of videos watched and games played, from the PBS KIDS Measure Up! app, a game-based learning tool developed as a part of the CPB-PBS Ready To Learn Initiative with funding from the U.S. Department of Education. Competitors will be challenged to predict scores on in-game assessments and create an algorithm that will lead to better-designed games and improved learning outcomes. Your solutions will aid in discovering important relationships between engagement with high-quality educational media and learning processes.\n",
    "\n",
    "##### Data Science Bowl is the world’s largest data science competition focused on social good. Each year, this competition gives Kagglers a chance to use their passion to change the world. Over the last four years, more than 50,000+ Kagglers have submitted over 114,000+ submissions, to improve everything from lung cancer and heart disease detection to ocean health.\n",
    "\n",
    "> For more information on the Data Science Bowl, please visit [DataScienceBowl.com](DataScienceBowl.com)\n"
   ]
  },
  {
   "cell_type": "code",
   "execution_count": 1,
   "metadata": {
    "_kg_hide-input": true
   },
   "outputs": [
    {
     "data": {
      "text/html": [
       "<iframe width=\"1100\" height=\"619\" src=\"https://www.youtube.com/embed/45Da3eqQKXQ\" frameborder=\"0\" allow=\"accelerometer; autoplay; encrypted-media; gyroscope; picture-in-picture\" allowfullscreen></iframe>"
      ],
      "text/plain": [
       "<IPython.core.display.HTML object>"
      ]
     },
     "execution_count": 1,
     "metadata": {},
     "output_type": "execute_result"
    }
   ],
   "source": [
    "import warnings\n",
    "warnings.filterwarnings(\"ignore\", category=DeprecationWarning)\n",
    "warnings.filterwarnings(\"ignore\", category=UserWarning)\n",
    "warnings.filterwarnings(\"ignore\", category=FutureWarning)\n",
    "\n",
    "from IPython.display import HTML\n",
    "HTML('<iframe width=\"1100\" height=\"619\" src=\"https://www.youtube.com/embed/45Da3eqQKXQ\" frameborder=\"0\" allow=\"accelerometer; autoplay; encrypted-media; gyroscope; picture-in-picture\" allowfullscreen></iframe>')\n"
   ]
  },
  {
   "cell_type": "markdown",
   "metadata": {},
   "source": [
    "### <a id='1'>Where does the data for the competition come from?</a>\n",
    "<a href= '#1'> Top</a>\n",
    "\n",
    "The data used in this competition is anonymous, tabular data of interactions with the PBS KIDS Measure Up! app. Select data, such as a user’s in-app assessment score or their path through the game, is collected by the PBS KIDS Measure Up! app, a game-based learning tool.\n",
    "\n",
    "PBS KIDS is committed to creating a safe and secure environment that family members of all ages can enjoy. The PBS KIDS Measure Up! app does not collect any personally identifying information, such as name or location. All of the data used in the competition is anonymous. To view the full PBS KIDS privacy policy, please visit: [pbskids.org/privacy](pbskids.org/privacy).\n",
    "\n",
    "No one will be able to download the entire data set and the participants do not have access to any personally identifiable information about individual users. The Data Science Bowl and the use of data for this year’s competition has been reviewed to ensure that it meets requirements of applicable child privacy regulations by PRIVO, a leading global industry expert in children’s online privacy.\n",
    "\n",
    "### What is the PBS KIDS Measure Up! app?\n",
    "In the PBS KIDS Measure Up! app, children ages 3 to 5 learn early STEM concepts focused on length, width, capacity, and weight while going on an adventure through Treetop City, Magma Peak, and Crystal Caves. Joined by their favorite PBS KIDS characters, children can also collect rewards and unlock digital toys as they play. To learn more about PBS KIDS Measure Up!, please click here.\n",
    "\n",
    "PBS KIDS and the PBS KIDS Logo are registered trademarks of PBS. Used with permission. The contents of PBS KIDS Measure Up! were developed under a grant from the Department of Education. However, those contents do not necessarily represent the policy of the Department of Education, and you should not assume endorsement by the Federal Government. The app is funded by a Ready To Learn grant (PR/AWARD No. U295A150003, CFDA No. 84.295A) provided by the Department of Education to the Corporation for Public Broadcasting.\n",
    "![image](http://www.wics.jp/data/editor/1902/thumb-962c8c816b10ed5f6586ece6e7a5f63d_1550554761_2866_600x400.jpg)\n"
   ]
  },
  {
   "cell_type": "markdown",
   "metadata": {},
   "source": [
    "### <a id='2'>Data Description</a>\n",
    "<a href= '#1'> Top</a>\n",
    "\n",
    "In this dataset, you are provided with game analytics for the PBS KIDS Measure Up! app. In this app, children navigate a map and complete various levels, which may be activities, video clips, games, or assessments. Each assessment is designed to test a child's comprehension of a certain set of measurement-related skills. There are five assessments: Bird Measurer, Cart Balancer, Cauldron Filler, Chest Sorter, and Mushroom Sorter.\n",
    "\n",
    "The intent of the competition is to use the gameplay data to forecast how many attempts a child will take to pass a given assessment (an incorrect answer is counted as an attempt). Each application install is represented by an installation_id. This will typically correspond to one child, but you should expect noise from issues such as shared devices. In the training set, you are provided the full history of gameplay data. In the test set, we have truncated the history after the start event of a single assessment, chosen randomly, for which you must predict the number of attempts. Note that the training set contains many installation_ids which never took assessments, whereas every installation_id in the test set made an attempt on at least one assessment.\n",
    "\n",
    "#####  The outcomes in this competition are grouped into 4 groups (labeled accuracy_group in the data):\n",
    "\n",
    "- 3: the assessment was solved on the first attempt\n",
    "- 2: the assessment was solved on the second attempt\n",
    "- 1: the assessment was solved after 3 or more attempts\n",
    "- 0: the assessment was never solved\n",
    "> The file train_labels.csv has been provided to show how these groups would be computed on the assessments in the training set. Assessment attempts are captured in event_code 4100 for all assessments except for Bird Measurer, which uses event_code 4110. If the attempt was correct, it contains \"correct\":true.\n",
    "\n",
    "> Note that this is a synchronous rerun code competition and the private test set has approximately 8MM rows. You should be mindful of memory in your notebooks to avoid submission errors.\n",
    "\n",
    "### Files\n",
    "\n",
    "- train.csv & test.csv\n",
    "\n",
    "These are the main data files which contain the gameplay events.\n",
    "\n",
    "- event_id - Randomly generated unique identifier for the event type. Maps to event_id column in specs table.\n",
    "- game_session - Randomly generated unique identifier grouping events within a single game or video play session.\n",
    "- timestamp - Client-generated datetime\n",
    "- event_data - Semi-structured JSON formatted string containing the events parameters. Default fields are: event_count, event_code, and - - game_time; otherwise fields are determined by the event type.\n",
    "- installation_id - Randomly generated unique identifier grouping game sessions within a single installed application instance.\n",
    "- event_count - Incremental counter of events within a game session (offset at 1). Extracted from event_data.\n",
    "- event_code - Identifier of the event 'class'. Unique per game, but may be duplicated across games. E.g. event code '2000' always - - - - identifies the 'Start Game' event for all games. Extracted from event_data.\n",
    "- game_time - Time in milliseconds since the start of the game session. Extracted from event_data.\n",
    "- title - Title of the game or video.\n",
    "- type - Media type of the game or video. Possible values are: 'Game', 'Assessment', 'Activity', 'Clip'.\n",
    "- world - The section of the application the game or video belongs to. Helpful to identify the educational curriculum goals of the media. Possible values are: 'NONE' (at the app's start screen), TREETOPCITY' (Length/Height), 'MAGMAPEAK' (Capacity/Displacement), 'CRYSTALCAVES' (Weight).\n",
    "- specs.csv\n",
    "\n",
    "##### This file gives the specification of the various event types.\n",
    "\n",
    "- event_id - Global unique identifier for the event type. Joins to event_id column in events table.\n",
    "- info - Description of the event.\n",
    "- args - JSON formatted string of event arguments. Each argument contains:\n",
    "- name - Argument name.\n",
    "- type - Type of the argument (string, int, number, object, array).\n",
    "- info - Description of the argument.\n",
    "- train_labels.csv\n",
    "\n",
    "###### This file demonstrates how to compute the ground truth for the assessments in the training set.\n",
    "\n",
    "- sample_submission.csv\n",
    "A sample submission in the correct format."
   ]
  },
  {
   "cell_type": "markdown",
   "metadata": {},
   "source": [
    "\n",
    "<html>\n",
    "<body>\n",
    "\n",
    "<p><font size=\"5\" color=\"Purple\">If you find this kernel useful or interesting, please don't forget to upvote the kernel =)\n",
    "\n",
    "</body>\n",
    "</html>\n",
    "\n"
   ]
  },
  {
   "cell_type": "markdown",
   "metadata": {},
   "source": [
    "### Imports\n",
    "\n",
    "> We are using a typical data science stack: `numpy`, `pandas`, `sklearn`, `matplotlib`. \n"
   ]
  },
  {
   "cell_type": "code",
   "execution_count": 2,
   "metadata": {
    "_kg_hide-input": true
   },
   "outputs": [
    {
     "data": {
      "text/html": [
       "        <script type=\"text/javascript\">\n",
       "        window.PlotlyConfig = {MathJaxConfig: 'local'};\n",
       "        if (window.MathJax) {MathJax.Hub.Config({SVG: {font: \"STIX-Web\"}});}\n",
       "        if (typeof require !== 'undefined') {\n",
       "        require.undef(\"plotly\");\n",
       "        requirejs.config({\n",
       "            paths: {\n",
       "                'plotly': ['https://cdn.plot.ly/plotly-latest.min']\n",
       "            }\n",
       "        });\n",
       "        require(['plotly'], function(Plotly) {\n",
       "            window._Plotly = Plotly;\n",
       "        });\n",
       "        }\n",
       "        </script>\n",
       "        "
      ]
     },
     "metadata": {},
     "output_type": "display_data"
    },
    {
     "data": {
      "text/html": [
       "        <script type=\"text/javascript\">\n",
       "        window.PlotlyConfig = {MathJaxConfig: 'local'};\n",
       "        if (window.MathJax) {MathJax.Hub.Config({SVG: {font: \"STIX-Web\"}});}\n",
       "        if (typeof require !== 'undefined') {\n",
       "        require.undef(\"plotly\");\n",
       "        requirejs.config({\n",
       "            paths: {\n",
       "                'plotly': ['https://cdn.plot.ly/plotly-latest.min']\n",
       "            }\n",
       "        });\n",
       "        require(['plotly'], function(Plotly) {\n",
       "            window._Plotly = Plotly;\n",
       "        });\n",
       "        }\n",
       "        </script>\n",
       "        "
      ]
     },
     "metadata": {},
     "output_type": "display_data"
    }
   ],
   "source": [
    "import os\n",
    "import numpy as np # linear algebra\n",
    "import pandas as pd # data processing, CSV file I/O (e.g. pd.read_csv)\n",
    "\n",
    "# matplotlib and seaborn for plotting\n",
    "import matplotlib.pyplot as plt\n",
    "import seaborn as sns\n",
    "import matplotlib.patches as patches\n",
    "\n",
    "from plotly import tools, subplots\n",
    "import plotly.offline as py\n",
    "py.init_notebook_mode(connected=True)\n",
    "import plotly.graph_objs as go\n",
    "import plotly.express as px\n",
    "pd.set_option('max_columns', 100)\n",
    "\n",
    "\n",
    "py.init_notebook_mode(connected=True)\n",
    "from plotly.offline import init_notebook_mode, iplot\n",
    "\n",
    "\n",
    "import lightgbm as lgb\n",
    "from sklearn.model_selection import train_test_split\n",
    "from sklearn.linear_model import LogisticRegression\n",
    "from sklearn.metrics import classification_report\n",
    "\n",
    "from tqdm import tqdm_notebook\n",
    "\n",
    "from IPython.display import HTML\n",
    "\n",
    "%matplotlib inline\n",
    "plt.rc('figure', figsize=(15.0, 8.0))"
   ]
  },
  {
   "cell_type": "markdown",
   "metadata": {},
   "source": [
    "# <a id='3'>3. Read in Data</a>\n",
    "<a href= '#1'> Top</a>\n",
    "\n",
    "First, we can list all the available data files. There are a total of 6 files: 1 main file for training (with target) 1 main file for testing (without the target), 1 example submission file, and 4 other files containing additional information about energy types based on historic usage rates and observed weather. . "
   ]
  },
  {
   "cell_type": "code",
   "execution_count": 3,
   "metadata": {
    "_kg_hide-input": true
   },
   "outputs": [
    {
     "name": "stdout",
     "output_type": "stream",
     "text": [
      "['train.csv', 'train_labels.csv', 'specs.csv', 'test.csv', 'sample_submission.csv']\n"
     ]
    }
   ],
   "source": [
    "import os\n",
    "print(os.listdir(\"../input/data-science-bowl-2019/\"))"
   ]
  },
  {
   "cell_type": "code",
   "execution_count": 4,
   "metadata": {
    "_kg_hide-input": true
   },
   "outputs": [
    {
     "name": "stdout",
     "output_type": "stream",
     "text": [
      "CPU times: user 45.5 s, sys: 3.45 s, total: 48.9 s\n",
      "Wall time: 48.8 s\n"
     ]
    }
   ],
   "source": [
    "%%time\n",
    "root = '../input/data-science-bowl-2019/'\n",
    "\n",
    "# Only load those columns in order to save space\n",
    "keep_cols = ['event_id', 'game_session', 'installation_id', 'event_count', 'event_code', 'title', 'game_time', 'type', 'world']\n",
    "train = pd.read_csv(root + 'train.csv',usecols=keep_cols)\n",
    "test = pd.read_csv(root + 'test.csv', usecols=keep_cols)\n",
    "\n",
    "train_labels = pd.read_csv(root + 'train_labels.csv')\n",
    "specs = pd.read_csv(root + 'specs.csv')\n",
    "sample_submission = pd.read_csv(root + 'sample_submission.csv')"
   ]
  },
  {
   "cell_type": "markdown",
   "metadata": {},
   "source": [
    "# <a id='4'>4. Glimpse of Data</a>\n",
    "<a href= '#1'> Top</a>\n"
   ]
  },
  {
   "cell_type": "code",
   "execution_count": 5,
   "metadata": {
    "_kg_hide-input": true
   },
   "outputs": [
    {
     "name": "stdout",
     "output_type": "stream",
     "text": [
      "Size of train data (11341042, 9)\n",
      "Size of train_labels data (17690, 7)\n",
      "Size of specs data (386, 3)\n",
      "Size of test data (1156414, 9)\n"
     ]
    }
   ],
   "source": [
    "print('Size of train data', train.shape)\n",
    "print('Size of train_labels data', train_labels.shape)\n",
    "print('Size of specs data', specs.shape)\n",
    "print('Size of test data', test.shape)"
   ]
  },
  {
   "cell_type": "markdown",
   "metadata": {},
   "source": [
    "# <a id='5'>5. Insigths</a>\n",
    "<a href= '#1'> Top</a>\n",
    "\n"
   ]
  },
  {
   "cell_type": "markdown",
   "metadata": {},
   "source": [
    "**Train**"
   ]
  },
  {
   "cell_type": "code",
   "execution_count": 6,
   "metadata": {
    "_kg_hide-input": true
   },
   "outputs": [
    {
     "data": {
      "text/html": [
       "<div>\n",
       "<style scoped>\n",
       "    .dataframe tbody tr th:only-of-type {\n",
       "        vertical-align: middle;\n",
       "    }\n",
       "\n",
       "    .dataframe tbody tr th {\n",
       "        vertical-align: top;\n",
       "    }\n",
       "\n",
       "    .dataframe thead th {\n",
       "        text-align: right;\n",
       "    }\n",
       "</style>\n",
       "<table border=\"1\" class=\"dataframe\">\n",
       "  <thead>\n",
       "    <tr style=\"text-align: right;\">\n",
       "      <th></th>\n",
       "      <th>event_id</th>\n",
       "      <th>game_session</th>\n",
       "      <th>installation_id</th>\n",
       "      <th>event_count</th>\n",
       "      <th>event_code</th>\n",
       "      <th>game_time</th>\n",
       "      <th>title</th>\n",
       "      <th>type</th>\n",
       "      <th>world</th>\n",
       "    </tr>\n",
       "  </thead>\n",
       "  <tbody>\n",
       "    <tr>\n",
       "      <td>0</td>\n",
       "      <td>27253bdc</td>\n",
       "      <td>45bb1e1b6b50c07b</td>\n",
       "      <td>0001e90f</td>\n",
       "      <td>1</td>\n",
       "      <td>2000</td>\n",
       "      <td>0</td>\n",
       "      <td>Welcome to Lost Lagoon!</td>\n",
       "      <td>Clip</td>\n",
       "      <td>NONE</td>\n",
       "    </tr>\n",
       "    <tr>\n",
       "      <td>1</td>\n",
       "      <td>27253bdc</td>\n",
       "      <td>17eeb7f223665f53</td>\n",
       "      <td>0001e90f</td>\n",
       "      <td>1</td>\n",
       "      <td>2000</td>\n",
       "      <td>0</td>\n",
       "      <td>Magma Peak - Level 1</td>\n",
       "      <td>Clip</td>\n",
       "      <td>MAGMAPEAK</td>\n",
       "    </tr>\n",
       "    <tr>\n",
       "      <td>2</td>\n",
       "      <td>77261ab5</td>\n",
       "      <td>0848ef14a8dc6892</td>\n",
       "      <td>0001e90f</td>\n",
       "      <td>1</td>\n",
       "      <td>2000</td>\n",
       "      <td>0</td>\n",
       "      <td>Sandcastle Builder (Activity)</td>\n",
       "      <td>Activity</td>\n",
       "      <td>MAGMAPEAK</td>\n",
       "    </tr>\n",
       "    <tr>\n",
       "      <td>3</td>\n",
       "      <td>b2dba42b</td>\n",
       "      <td>0848ef14a8dc6892</td>\n",
       "      <td>0001e90f</td>\n",
       "      <td>2</td>\n",
       "      <td>3010</td>\n",
       "      <td>53</td>\n",
       "      <td>Sandcastle Builder (Activity)</td>\n",
       "      <td>Activity</td>\n",
       "      <td>MAGMAPEAK</td>\n",
       "    </tr>\n",
       "    <tr>\n",
       "      <td>4</td>\n",
       "      <td>1bb5fbdb</td>\n",
       "      <td>0848ef14a8dc6892</td>\n",
       "      <td>0001e90f</td>\n",
       "      <td>3</td>\n",
       "      <td>3110</td>\n",
       "      <td>6972</td>\n",
       "      <td>Sandcastle Builder (Activity)</td>\n",
       "      <td>Activity</td>\n",
       "      <td>MAGMAPEAK</td>\n",
       "    </tr>\n",
       "  </tbody>\n",
       "</table>\n",
       "</div>"
      ],
      "text/plain": [
       "   event_id      game_session installation_id  event_count  event_code  \\\n",
       "0  27253bdc  45bb1e1b6b50c07b        0001e90f            1        2000   \n",
       "1  27253bdc  17eeb7f223665f53        0001e90f            1        2000   \n",
       "2  77261ab5  0848ef14a8dc6892        0001e90f            1        2000   \n",
       "3  b2dba42b  0848ef14a8dc6892        0001e90f            2        3010   \n",
       "4  1bb5fbdb  0848ef14a8dc6892        0001e90f            3        3110   \n",
       "\n",
       "   game_time                          title      type      world  \n",
       "0          0        Welcome to Lost Lagoon!      Clip       NONE  \n",
       "1          0           Magma Peak - Level 1      Clip  MAGMAPEAK  \n",
       "2          0  Sandcastle Builder (Activity)  Activity  MAGMAPEAK  \n",
       "3         53  Sandcastle Builder (Activity)  Activity  MAGMAPEAK  \n",
       "4       6972  Sandcastle Builder (Activity)  Activity  MAGMAPEAK  "
      ]
     },
     "execution_count": 6,
     "metadata": {},
     "output_type": "execute_result"
    }
   ],
   "source": [
    "train.head()"
   ]
  },
  {
   "cell_type": "markdown",
   "metadata": {},
   "source": [
    "**Train_labels**"
   ]
  },
  {
   "cell_type": "code",
   "execution_count": 7,
   "metadata": {
    "_kg_hide-input": true
   },
   "outputs": [
    {
     "data": {
      "text/html": [
       "<div>\n",
       "<style scoped>\n",
       "    .dataframe tbody tr th:only-of-type {\n",
       "        vertical-align: middle;\n",
       "    }\n",
       "\n",
       "    .dataframe tbody tr th {\n",
       "        vertical-align: top;\n",
       "    }\n",
       "\n",
       "    .dataframe thead th {\n",
       "        text-align: right;\n",
       "    }\n",
       "</style>\n",
       "<table border=\"1\" class=\"dataframe\">\n",
       "  <thead>\n",
       "    <tr style=\"text-align: right;\">\n",
       "      <th></th>\n",
       "      <th>game_session</th>\n",
       "      <th>installation_id</th>\n",
       "      <th>title</th>\n",
       "      <th>num_correct</th>\n",
       "      <th>num_incorrect</th>\n",
       "      <th>accuracy</th>\n",
       "      <th>accuracy_group</th>\n",
       "    </tr>\n",
       "  </thead>\n",
       "  <tbody>\n",
       "    <tr>\n",
       "      <td>0</td>\n",
       "      <td>6bdf9623adc94d89</td>\n",
       "      <td>0006a69f</td>\n",
       "      <td>Mushroom Sorter (Assessment)</td>\n",
       "      <td>1</td>\n",
       "      <td>0</td>\n",
       "      <td>1.0</td>\n",
       "      <td>3</td>\n",
       "    </tr>\n",
       "    <tr>\n",
       "      <td>1</td>\n",
       "      <td>77b8ee947eb84b4e</td>\n",
       "      <td>0006a69f</td>\n",
       "      <td>Bird Measurer (Assessment)</td>\n",
       "      <td>0</td>\n",
       "      <td>11</td>\n",
       "      <td>0.0</td>\n",
       "      <td>0</td>\n",
       "    </tr>\n",
       "    <tr>\n",
       "      <td>2</td>\n",
       "      <td>901acc108f55a5a1</td>\n",
       "      <td>0006a69f</td>\n",
       "      <td>Mushroom Sorter (Assessment)</td>\n",
       "      <td>1</td>\n",
       "      <td>0</td>\n",
       "      <td>1.0</td>\n",
       "      <td>3</td>\n",
       "    </tr>\n",
       "    <tr>\n",
       "      <td>3</td>\n",
       "      <td>9501794defd84e4d</td>\n",
       "      <td>0006a69f</td>\n",
       "      <td>Mushroom Sorter (Assessment)</td>\n",
       "      <td>1</td>\n",
       "      <td>1</td>\n",
       "      <td>0.5</td>\n",
       "      <td>2</td>\n",
       "    </tr>\n",
       "    <tr>\n",
       "      <td>4</td>\n",
       "      <td>a9ef3ecb3d1acc6a</td>\n",
       "      <td>0006a69f</td>\n",
       "      <td>Bird Measurer (Assessment)</td>\n",
       "      <td>1</td>\n",
       "      <td>0</td>\n",
       "      <td>1.0</td>\n",
       "      <td>3</td>\n",
       "    </tr>\n",
       "  </tbody>\n",
       "</table>\n",
       "</div>"
      ],
      "text/plain": [
       "       game_session installation_id                         title  \\\n",
       "0  6bdf9623adc94d89        0006a69f  Mushroom Sorter (Assessment)   \n",
       "1  77b8ee947eb84b4e        0006a69f    Bird Measurer (Assessment)   \n",
       "2  901acc108f55a5a1        0006a69f  Mushroom Sorter (Assessment)   \n",
       "3  9501794defd84e4d        0006a69f  Mushroom Sorter (Assessment)   \n",
       "4  a9ef3ecb3d1acc6a        0006a69f    Bird Measurer (Assessment)   \n",
       "\n",
       "   num_correct  num_incorrect  accuracy  accuracy_group  \n",
       "0            1              0       1.0               3  \n",
       "1            0             11       0.0               0  \n",
       "2            1              0       1.0               3  \n",
       "3            1              1       0.5               2  \n",
       "4            1              0       1.0               3  "
      ]
     },
     "execution_count": 7,
     "metadata": {},
     "output_type": "execute_result"
    }
   ],
   "source": [
    "train_labels.head()"
   ]
  },
  {
   "cell_type": "markdown",
   "metadata": {},
   "source": [
    "**Specs**"
   ]
  },
  {
   "cell_type": "code",
   "execution_count": 8,
   "metadata": {
    "_kg_hide-input": true
   },
   "outputs": [
    {
     "data": {
      "text/html": [
       "<div>\n",
       "<style scoped>\n",
       "    .dataframe tbody tr th:only-of-type {\n",
       "        vertical-align: middle;\n",
       "    }\n",
       "\n",
       "    .dataframe tbody tr th {\n",
       "        vertical-align: top;\n",
       "    }\n",
       "\n",
       "    .dataframe thead th {\n",
       "        text-align: right;\n",
       "    }\n",
       "</style>\n",
       "<table border=\"1\" class=\"dataframe\">\n",
       "  <thead>\n",
       "    <tr style=\"text-align: right;\">\n",
       "      <th></th>\n",
       "      <th>event_id</th>\n",
       "      <th>info</th>\n",
       "      <th>args</th>\n",
       "    </tr>\n",
       "  </thead>\n",
       "  <tbody>\n",
       "    <tr>\n",
       "      <td>0</td>\n",
       "      <td>2b9272f4</td>\n",
       "      <td>The end of system-initiated feedback (Correct)...</td>\n",
       "      <td>[{\"name\":\"game_time\",\"type\":\"int\",\"info\":\"mill...</td>\n",
       "    </tr>\n",
       "    <tr>\n",
       "      <td>1</td>\n",
       "      <td>df4fe8b6</td>\n",
       "      <td>The end of system-initiated feedback (Incorrec...</td>\n",
       "      <td>[{\"name\":\"game_time\",\"type\":\"int\",\"info\":\"mill...</td>\n",
       "    </tr>\n",
       "    <tr>\n",
       "      <td>2</td>\n",
       "      <td>3babcb9b</td>\n",
       "      <td>The end of system-initiated instruction event ...</td>\n",
       "      <td>[{\"name\":\"game_time\",\"type\":\"int\",\"info\":\"mill...</td>\n",
       "    </tr>\n",
       "    <tr>\n",
       "      <td>3</td>\n",
       "      <td>7f0836bf</td>\n",
       "      <td>The end of system-initiated instruction event ...</td>\n",
       "      <td>[{\"name\":\"game_time\",\"type\":\"int\",\"info\":\"mill...</td>\n",
       "    </tr>\n",
       "    <tr>\n",
       "      <td>4</td>\n",
       "      <td>ab3136ba</td>\n",
       "      <td>The end of system-initiated instruction event ...</td>\n",
       "      <td>[{\"name\":\"game_time\",\"type\":\"int\",\"info\":\"mill...</td>\n",
       "    </tr>\n",
       "  </tbody>\n",
       "</table>\n",
       "</div>"
      ],
      "text/plain": [
       "   event_id                                               info  \\\n",
       "0  2b9272f4  The end of system-initiated feedback (Correct)...   \n",
       "1  df4fe8b6  The end of system-initiated feedback (Incorrec...   \n",
       "2  3babcb9b  The end of system-initiated instruction event ...   \n",
       "3  7f0836bf  The end of system-initiated instruction event ...   \n",
       "4  ab3136ba  The end of system-initiated instruction event ...   \n",
       "\n",
       "                                                args  \n",
       "0  [{\"name\":\"game_time\",\"type\":\"int\",\"info\":\"mill...  \n",
       "1  [{\"name\":\"game_time\",\"type\":\"int\",\"info\":\"mill...  \n",
       "2  [{\"name\":\"game_time\",\"type\":\"int\",\"info\":\"mill...  \n",
       "3  [{\"name\":\"game_time\",\"type\":\"int\",\"info\":\"mill...  \n",
       "4  [{\"name\":\"game_time\",\"type\":\"int\",\"info\":\"mill...  "
      ]
     },
     "execution_count": 8,
     "metadata": {},
     "output_type": "execute_result"
    }
   ],
   "source": [
    "specs.head()"
   ]
  },
  {
   "cell_type": "markdown",
   "metadata": {},
   "source": [
    "# <a id='6'>6. Exploratory Data Analysis</a>\n",
    "<a href= '#1'> Top</a>\n",
    "\n",
    "\n",
    "Exploratory Data Analysis (EDA) is an open-ended process where we calculate statistics and make figures to find trends, patterns, or relationships within the data. "
   ]
  },
  {
   "cell_type": "markdown",
   "metadata": {},
   "source": [
    "> Still in progress"
   ]
  },
  {
   "cell_type": "markdown",
   "metadata": {},
   "source": [
    "# <a id='7'>7. Column Types</a>\n",
    "<a href= '#1'> Top</a>\n",
    "\n",
    "\n",
    "Let's look at the number of columns of each data type. `int64` and `float64` are numeric variables ([which can be either discrete or continuous](https://stats.stackexchange.com/questions/206/what-is-the-difference-between-discrete-data-and-continuous-data)). `object` columns contain strings and are  [categorical features.](http://support.minitab.com/en-us/minitab-express/1/help-and-how-to/modeling-statistics/regression/supporting-topics/basics/what-are-categorical-discrete-and-continuous-variables/) . "
   ]
  },
  {
   "cell_type": "markdown",
   "metadata": {},
   "source": [
    "### <a id='7-1'>7.1 Number of each type of column - Train</a>\n",
    "<a href= '#1'> Top</a>\n"
   ]
  },
  {
   "cell_type": "markdown",
   "metadata": {},
   "source": [
    "train.dtypes"
   ]
  },
  {
   "cell_type": "code",
   "execution_count": 9,
   "metadata": {
    "_kg_hide-input": true
   },
   "outputs": [
    {
     "data": {
      "text/plain": [
       "object    6\n",
       "int64     3\n",
       "dtype: int64"
      ]
     },
     "execution_count": 9,
     "metadata": {},
     "output_type": "execute_result"
    }
   ],
   "source": [
    "train.dtypes.value_counts()"
   ]
  },
  {
   "cell_type": "markdown",
   "metadata": {},
   "source": [
    "### <a id='7-2'>7.2 Number of unique classes in each object column  - Train</a>\n",
    "<a href= '#1'> Top</a>\n"
   ]
  },
  {
   "cell_type": "code",
   "execution_count": 10,
   "metadata": {
    "_kg_hide-input": true
   },
   "outputs": [
    {
     "data": {
      "text/plain": [
       "event_id              384\n",
       "game_session       303319\n",
       "installation_id     17000\n",
       "title                  44\n",
       "type                    4\n",
       "world                   4\n",
       "dtype: int64"
      ]
     },
     "execution_count": 10,
     "metadata": {},
     "output_type": "execute_result"
    }
   ],
   "source": [
    "train.select_dtypes('object').apply(pd.Series.nunique, axis = 0)"
   ]
  },
  {
   "cell_type": "markdown",
   "metadata": {},
   "source": [
    "### <a id='7-3'>7.3 Number of each type of column - Train_labels</a>\n",
    "<a href= '#1'> Top</a>\n",
    "\n"
   ]
  },
  {
   "cell_type": "markdown",
   "metadata": {},
   "source": [
    "train_labels.dtypes"
   ]
  },
  {
   "cell_type": "code",
   "execution_count": 11,
   "metadata": {
    "_kg_hide-input": true
   },
   "outputs": [
    {
     "data": {
      "text/plain": [
       "object     3\n",
       "int64      3\n",
       "float64    1\n",
       "dtype: int64"
      ]
     },
     "execution_count": 11,
     "metadata": {},
     "output_type": "execute_result"
    }
   ],
   "source": [
    "train_labels.dtypes.value_counts()"
   ]
  },
  {
   "cell_type": "markdown",
   "metadata": {},
   "source": [
    "### <a id='7-4'>7.4 Number of unique classes in each object column  - Train_labels</a>\n",
    "<a href= '#1'> Top</a>\n",
    "\n"
   ]
  },
  {
   "cell_type": "code",
   "execution_count": 12,
   "metadata": {
    "_kg_hide-input": true
   },
   "outputs": [
    {
     "data": {
      "text/plain": [
       "game_session       17690\n",
       "installation_id     3614\n",
       "title                  5\n",
       "dtype: int64"
      ]
     },
     "execution_count": 12,
     "metadata": {},
     "output_type": "execute_result"
    }
   ],
   "source": [
    "train_labels.select_dtypes('object').apply(pd.Series.nunique, axis = 0)"
   ]
  },
  {
   "cell_type": "markdown",
   "metadata": {},
   "source": [
    "### <a id='7-5'>7.5 Number of each type of column - Specs</a>\n",
    "<a href= '#1'> Top</a>\n",
    "\n"
   ]
  },
  {
   "cell_type": "markdown",
   "metadata": {},
   "source": [
    "specs.dtypes"
   ]
  },
  {
   "cell_type": "code",
   "execution_count": 13,
   "metadata": {
    "_kg_hide-input": true
   },
   "outputs": [
    {
     "data": {
      "text/plain": [
       "object    3\n",
       "dtype: int64"
      ]
     },
     "execution_count": 13,
     "metadata": {},
     "output_type": "execute_result"
    }
   ],
   "source": [
    "specs.dtypes.value_counts()"
   ]
  },
  {
   "cell_type": "markdown",
   "metadata": {},
   "source": [
    "### <a id='7-6'>7.6 Number of unique classes in each object column  - Specs</a>\n",
    "<a href= '#1'> Top</a>\n",
    "\n"
   ]
  },
  {
   "cell_type": "code",
   "execution_count": 14,
   "metadata": {
    "_kg_hide-input": true
   },
   "outputs": [
    {
     "data": {
      "text/plain": [
       "event_id    386\n",
       "info        168\n",
       "args        191\n",
       "dtype: int64"
      ]
     },
     "execution_count": 14,
     "metadata": {},
     "output_type": "execute_result"
    }
   ],
   "source": [
    "specs.select_dtypes('object').apply(pd.Series.nunique, axis = 0)"
   ]
  },
  {
   "cell_type": "markdown",
   "metadata": {},
   "source": [
    "# <a id='8'>8. Examine Missing Values</a>\n",
    "<a href= '#1'> Top</a>\n",
    "\n",
    "\n",
    "\n",
    "Next we can look at the number and percentage of missing values in each column. "
   ]
  },
  {
   "cell_type": "markdown",
   "metadata": {},
   "source": [
    "### checking missing data for train"
   ]
  },
  {
   "cell_type": "code",
   "execution_count": 15,
   "metadata": {
    "_kg_hide-input": true
   },
   "outputs": [
    {
     "data": {
      "text/html": [
       "<div>\n",
       "<style scoped>\n",
       "    .dataframe tbody tr th:only-of-type {\n",
       "        vertical-align: middle;\n",
       "    }\n",
       "\n",
       "    .dataframe tbody tr th {\n",
       "        vertical-align: top;\n",
       "    }\n",
       "\n",
       "    .dataframe thead th {\n",
       "        text-align: right;\n",
       "    }\n",
       "</style>\n",
       "<table border=\"1\" class=\"dataframe\">\n",
       "  <thead>\n",
       "    <tr style=\"text-align: right;\">\n",
       "      <th></th>\n",
       "      <th>Total</th>\n",
       "      <th>Percent</th>\n",
       "    </tr>\n",
       "  </thead>\n",
       "  <tbody>\n",
       "    <tr>\n",
       "      <td>world</td>\n",
       "      <td>0</td>\n",
       "      <td>0.0</td>\n",
       "    </tr>\n",
       "    <tr>\n",
       "      <td>type</td>\n",
       "      <td>0</td>\n",
       "      <td>0.0</td>\n",
       "    </tr>\n",
       "    <tr>\n",
       "      <td>title</td>\n",
       "      <td>0</td>\n",
       "      <td>0.0</td>\n",
       "    </tr>\n",
       "    <tr>\n",
       "      <td>game_time</td>\n",
       "      <td>0</td>\n",
       "      <td>0.0</td>\n",
       "    </tr>\n",
       "    <tr>\n",
       "      <td>event_code</td>\n",
       "      <td>0</td>\n",
       "      <td>0.0</td>\n",
       "    </tr>\n",
       "    <tr>\n",
       "      <td>event_count</td>\n",
       "      <td>0</td>\n",
       "      <td>0.0</td>\n",
       "    </tr>\n",
       "    <tr>\n",
       "      <td>installation_id</td>\n",
       "      <td>0</td>\n",
       "      <td>0.0</td>\n",
       "    </tr>\n",
       "    <tr>\n",
       "      <td>game_session</td>\n",
       "      <td>0</td>\n",
       "      <td>0.0</td>\n",
       "    </tr>\n",
       "    <tr>\n",
       "      <td>event_id</td>\n",
       "      <td>0</td>\n",
       "      <td>0.0</td>\n",
       "    </tr>\n",
       "  </tbody>\n",
       "</table>\n",
       "</div>"
      ],
      "text/plain": [
       "                 Total  Percent\n",
       "world                0      0.0\n",
       "type                 0      0.0\n",
       "title                0      0.0\n",
       "game_time            0      0.0\n",
       "event_code           0      0.0\n",
       "event_count          0      0.0\n",
       "installation_id      0      0.0\n",
       "game_session         0      0.0\n",
       "event_id             0      0.0"
      ]
     },
     "execution_count": 15,
     "metadata": {},
     "output_type": "execute_result"
    }
   ],
   "source": [
    "total = train.isnull().sum().sort_values(ascending = False)\n",
    "percent = (train.isnull().sum()/train.isnull().count()*100).sort_values(ascending = False)\n",
    "missing__train_data  = pd.concat([total, percent], axis=1, keys=['Total', 'Percent'])\n",
    "missing__train_data.head(10)"
   ]
  },
  {
   "cell_type": "markdown",
   "metadata": {},
   "source": [
    "### checking missing data for Train_labels"
   ]
  },
  {
   "cell_type": "code",
   "execution_count": 16,
   "metadata": {
    "_kg_hide-input": true
   },
   "outputs": [
    {
     "data": {
      "text/html": [
       "<div>\n",
       "<style scoped>\n",
       "    .dataframe tbody tr th:only-of-type {\n",
       "        vertical-align: middle;\n",
       "    }\n",
       "\n",
       "    .dataframe tbody tr th {\n",
       "        vertical-align: top;\n",
       "    }\n",
       "\n",
       "    .dataframe thead th {\n",
       "        text-align: right;\n",
       "    }\n",
       "</style>\n",
       "<table border=\"1\" class=\"dataframe\">\n",
       "  <thead>\n",
       "    <tr style=\"text-align: right;\">\n",
       "      <th></th>\n",
       "      <th>Total</th>\n",
       "      <th>Percent</th>\n",
       "    </tr>\n",
       "  </thead>\n",
       "  <tbody>\n",
       "    <tr>\n",
       "      <td>accuracy_group</td>\n",
       "      <td>0</td>\n",
       "      <td>0.0</td>\n",
       "    </tr>\n",
       "    <tr>\n",
       "      <td>accuracy</td>\n",
       "      <td>0</td>\n",
       "      <td>0.0</td>\n",
       "    </tr>\n",
       "    <tr>\n",
       "      <td>num_incorrect</td>\n",
       "      <td>0</td>\n",
       "      <td>0.0</td>\n",
       "    </tr>\n",
       "    <tr>\n",
       "      <td>num_correct</td>\n",
       "      <td>0</td>\n",
       "      <td>0.0</td>\n",
       "    </tr>\n",
       "    <tr>\n",
       "      <td>title</td>\n",
       "      <td>0</td>\n",
       "      <td>0.0</td>\n",
       "    </tr>\n",
       "    <tr>\n",
       "      <td>installation_id</td>\n",
       "      <td>0</td>\n",
       "      <td>0.0</td>\n",
       "    </tr>\n",
       "    <tr>\n",
       "      <td>game_session</td>\n",
       "      <td>0</td>\n",
       "      <td>0.0</td>\n",
       "    </tr>\n",
       "  </tbody>\n",
       "</table>\n",
       "</div>"
      ],
      "text/plain": [
       "                 Total  Percent\n",
       "accuracy_group       0      0.0\n",
       "accuracy             0      0.0\n",
       "num_incorrect        0      0.0\n",
       "num_correct          0      0.0\n",
       "title                0      0.0\n",
       "installation_id      0      0.0\n",
       "game_session         0      0.0"
      ]
     },
     "execution_count": 16,
     "metadata": {},
     "output_type": "execute_result"
    }
   ],
   "source": [
    "total = train_labels.isnull().sum().sort_values(ascending = False)\n",
    "percent = (train_labels.isnull().sum()/train_labels.isnull().count()*100).sort_values(ascending = False)\n",
    "missing__train_data  = pd.concat([total, percent], axis=1, keys=['Total', 'Percent'])\n",
    "missing__train_data.head(10)"
   ]
  },
  {
   "cell_type": "markdown",
   "metadata": {},
   "source": [
    "### checking missing data for Specs"
   ]
  },
  {
   "cell_type": "code",
   "execution_count": 17,
   "metadata": {
    "_kg_hide-input": true
   },
   "outputs": [
    {
     "data": {
      "text/html": [
       "<div>\n",
       "<style scoped>\n",
       "    .dataframe tbody tr th:only-of-type {\n",
       "        vertical-align: middle;\n",
       "    }\n",
       "\n",
       "    .dataframe tbody tr th {\n",
       "        vertical-align: top;\n",
       "    }\n",
       "\n",
       "    .dataframe thead th {\n",
       "        text-align: right;\n",
       "    }\n",
       "</style>\n",
       "<table border=\"1\" class=\"dataframe\">\n",
       "  <thead>\n",
       "    <tr style=\"text-align: right;\">\n",
       "      <th></th>\n",
       "      <th>Total</th>\n",
       "      <th>Percent</th>\n",
       "    </tr>\n",
       "  </thead>\n",
       "  <tbody>\n",
       "    <tr>\n",
       "      <td>args</td>\n",
       "      <td>0</td>\n",
       "      <td>0.0</td>\n",
       "    </tr>\n",
       "    <tr>\n",
       "      <td>info</td>\n",
       "      <td>0</td>\n",
       "      <td>0.0</td>\n",
       "    </tr>\n",
       "    <tr>\n",
       "      <td>event_id</td>\n",
       "      <td>0</td>\n",
       "      <td>0.0</td>\n",
       "    </tr>\n",
       "  </tbody>\n",
       "</table>\n",
       "</div>"
      ],
      "text/plain": [
       "          Total  Percent\n",
       "args          0      0.0\n",
       "info          0      0.0\n",
       "event_id      0      0.0"
      ]
     },
     "execution_count": 17,
     "metadata": {},
     "output_type": "execute_result"
    }
   ],
   "source": [
    "total = specs.isnull().sum().sort_values(ascending = False)\n",
    "percent = (specs.isnull().sum()/specs.isnull().count()*100).sort_values(ascending = False)\n",
    "missing__train_data  = pd.concat([total, percent], axis=1, keys=['Total', 'Percent'])\n",
    "missing__train_data.head(10)"
   ]
  },
  {
   "cell_type": "markdown",
   "metadata": {},
   "source": [
    "# <a id='9'>9. Correlations</a>\n",
    "<a href= '#1'> Top</a>\n",
    "\n",
    "\n",
    "\n",
    "Now that we have dealt with the categorical variables and the outliers, let's continue with the EDA. One way to try and understand the data is by looking for correlations between the features and the target. We can calculate the Pearson correlation coefficient between every variable and the target using the `.corr` dataframe method.\n",
    "\n",
    "The correlation coefficient is not the greatest method to represent \"relevance\" of a feature, but it does give us an idea of possible relationships within the data. Some [general interpretations of the absolute value of the correlation coefficent](http://www.statstutor.ac.uk/resources/uploaded/pearsons.pdf) are:\n",
    "\n",
    "\n",
    "* .00-.19 “very weak”\n",
    "*  .20-.39 “weak”\n",
    "*  .40-.59 “moderate”\n",
    "*  .60-.79 “strong”\n",
    "* .80-1.0 “very strong”\n"
   ]
  },
  {
   "cell_type": "markdown",
   "metadata": {},
   "source": [
    "> ### Train Correlation"
   ]
  },
  {
   "cell_type": "code",
   "execution_count": 18,
   "metadata": {
    "_kg_hide-input": true
   },
   "outputs": [
    {
     "data": {
      "text/html": [
       "<div>\n",
       "<style scoped>\n",
       "    .dataframe tbody tr th:only-of-type {\n",
       "        vertical-align: middle;\n",
       "    }\n",
       "\n",
       "    .dataframe tbody tr th {\n",
       "        vertical-align: top;\n",
       "    }\n",
       "\n",
       "    .dataframe thead th {\n",
       "        text-align: right;\n",
       "    }\n",
       "</style>\n",
       "<table border=\"1\" class=\"dataframe\">\n",
       "  <thead>\n",
       "    <tr style=\"text-align: right;\">\n",
       "      <th></th>\n",
       "      <th>event_count</th>\n",
       "      <th>event_code</th>\n",
       "      <th>game_time</th>\n",
       "    </tr>\n",
       "  </thead>\n",
       "  <tbody>\n",
       "    <tr>\n",
       "      <td>event_count</td>\n",
       "      <td>1.000000</td>\n",
       "      <td>0.043830</td>\n",
       "      <td>0.142553</td>\n",
       "    </tr>\n",
       "    <tr>\n",
       "      <td>event_code</td>\n",
       "      <td>0.043830</td>\n",
       "      <td>1.000000</td>\n",
       "      <td>0.005257</td>\n",
       "    </tr>\n",
       "    <tr>\n",
       "      <td>game_time</td>\n",
       "      <td>0.142553</td>\n",
       "      <td>0.005257</td>\n",
       "      <td>1.000000</td>\n",
       "    </tr>\n",
       "  </tbody>\n",
       "</table>\n",
       "</div>"
      ],
      "text/plain": [
       "             event_count  event_code  game_time\n",
       "event_count     1.000000    0.043830   0.142553\n",
       "event_code      0.043830    1.000000   0.005257\n",
       "game_time       0.142553    0.005257   1.000000"
      ]
     },
     "execution_count": 18,
     "metadata": {},
     "output_type": "execute_result"
    }
   ],
   "source": [
    "corrs = train.corr()\n",
    "corrs"
   ]
  },
  {
   "cell_type": "code",
   "execution_count": 19,
   "metadata": {
    "_kg_hide-input": true
   },
   "outputs": [
    {
     "data": {
      "image/png": "[encoded data removed]",
      "text/plain": [
       "<Figure size 1440x576 with 2 Axes>"
      ]
     },
     "metadata": {
      "needs_background": "light"
     },
     "output_type": "display_data"
    }
   ],
   "source": [
    "plt.figure(figsize = (20, 8))\n",
    "\n",
    "# Heatmap of correlations\n",
    "sns.heatmap(corrs, cmap = plt.cm.RdYlBu_r, vmin = -0.25, annot = True, vmax = 0.6)\n",
    "plt.title('Correlation Heatmap');"
   ]
  },
  {
   "cell_type": "markdown",
   "metadata": {},
   "source": [
    "> ### Train_labels Correlation"
   ]
  },
  {
   "cell_type": "code",
   "execution_count": 20,
   "metadata": {
    "_kg_hide-input": true
   },
   "outputs": [
    {
     "data": {
      "text/html": [
       "<div>\n",
       "<style scoped>\n",
       "    .dataframe tbody tr th:only-of-type {\n",
       "        vertical-align: middle;\n",
       "    }\n",
       "\n",
       "    .dataframe tbody tr th {\n",
       "        vertical-align: top;\n",
       "    }\n",
       "\n",
       "    .dataframe thead th {\n",
       "        text-align: right;\n",
       "    }\n",
       "</style>\n",
       "<table border=\"1\" class=\"dataframe\">\n",
       "  <thead>\n",
       "    <tr style=\"text-align: right;\">\n",
       "      <th></th>\n",
       "      <th>num_correct</th>\n",
       "      <th>num_incorrect</th>\n",
       "      <th>accuracy</th>\n",
       "      <th>accuracy_group</th>\n",
       "    </tr>\n",
       "  </thead>\n",
       "  <tbody>\n",
       "    <tr>\n",
       "      <td>num_correct</td>\n",
       "      <td>1.000000</td>\n",
       "      <td>-0.417492</td>\n",
       "      <td>0.775654</td>\n",
       "      <td>0.840957</td>\n",
       "    </tr>\n",
       "    <tr>\n",
       "      <td>num_incorrect</td>\n",
       "      <td>-0.417492</td>\n",
       "      <td>1.000000</td>\n",
       "      <td>-0.593068</td>\n",
       "      <td>-0.573865</td>\n",
       "    </tr>\n",
       "    <tr>\n",
       "      <td>accuracy</td>\n",
       "      <td>0.775654</td>\n",
       "      <td>-0.593068</td>\n",
       "      <td>1.000000</td>\n",
       "      <td>0.988150</td>\n",
       "    </tr>\n",
       "    <tr>\n",
       "      <td>accuracy_group</td>\n",
       "      <td>0.840957</td>\n",
       "      <td>-0.573865</td>\n",
       "      <td>0.988150</td>\n",
       "      <td>1.000000</td>\n",
       "    </tr>\n",
       "  </tbody>\n",
       "</table>\n",
       "</div>"
      ],
      "text/plain": [
       "                num_correct  num_incorrect  accuracy  accuracy_group\n",
       "num_correct        1.000000      -0.417492  0.775654        0.840957\n",
       "num_incorrect     -0.417492       1.000000 -0.593068       -0.573865\n",
       "accuracy           0.775654      -0.593068  1.000000        0.988150\n",
       "accuracy_group     0.840957      -0.573865  0.988150        1.000000"
      ]
     },
     "execution_count": 20,
     "metadata": {},
     "output_type": "execute_result"
    }
   ],
   "source": [
    "corrs2 = train_labels.corr()\n",
    "corrs2"
   ]
  },
  {
   "cell_type": "code",
   "execution_count": 21,
   "metadata": {
    "_kg_hide-input": true
   },
   "outputs": [
    {
     "data": {
      "image/png": "[encoded data removed]",
      "text/plain": [
       "<Figure size 1440x576 with 2 Axes>"
      ]
     },
     "metadata": {
      "needs_background": "light"
     },
     "output_type": "display_data"
    }
   ],
   "source": [
    "plt.figure(figsize = (20, 8))\n",
    "\n",
    "# Heatmap of correlations\n",
    "sns.heatmap(corrs2, cmap = plt.cm.RdYlBu_r, vmin = -0.25, annot = True, vmax = 0.6)\n",
    "plt.title('Correlation Heatmap');"
   ]
  },
  {
   "cell_type": "markdown",
   "metadata": {},
   "source": [
    "# <a id='10'>10. Ploting </a>\n",
    "<a href= '#1'> Top</a>\n"
   ]
  },
  {
   "cell_type": "markdown",
   "metadata": {},
   "source": [
    ">  ### accuracy_group"
   ]
  },
  {
   "cell_type": "code",
   "execution_count": 22,
   "metadata": {
    "_kg_hide-input": true
   },
   "outputs": [
    {
     "data": {
      "image/png": "[encoded data removed]",
      "text/plain": [
       "<Figure size 576x432 with 1 Axes>"
      ]
     },
     "metadata": {
      "needs_background": "light"
     },
     "output_type": "display_data"
    }
   ],
   "source": [
    "plt.figure(figsize=(8, 6))\n",
    "sns.countplot(x=\"accuracy_group\",data=train_labels, order = train_labels['accuracy_group'].value_counts().index)\n",
    "plt.title('Accuracy Group Count Column')\n",
    "plt.tight_layout()\n",
    "plt.show()"
   ]
  },
  {
   "cell_type": "code",
   "execution_count": 23,
   "metadata": {
    "_kg_hide-input": true
   },
   "outputs": [
    {
     "data": {
      "image/png": "[encoded data removed]",
      "text/plain": [
       "<Figure size 1080x360 with 1 Axes>"
      ]
     },
     "metadata": {
      "needs_background": "light"
     },
     "output_type": "display_data"
    }
   ],
   "source": [
    "train_labels.groupby('accuracy_group')['game_session'].count() \\\n",
    "    .plot(kind='barh', figsize=(15, 5), title='Target (accuracy group)')\n",
    "plt.show()"
   ]
  },
  {
   "cell_type": "code",
   "execution_count": 24,
   "metadata": {
    "_kg_hide-input": true
   },
   "outputs": [
    {
     "data": {
      "text/html": [
       "<div>\n",
       "<style scoped>\n",
       "    .dataframe tbody tr th:only-of-type {\n",
       "        vertical-align: middle;\n",
       "    }\n",
       "\n",
       "    .dataframe tbody tr th {\n",
       "        vertical-align: top;\n",
       "    }\n",
       "\n",
       "    .dataframe thead th {\n",
       "        text-align: right;\n",
       "    }\n",
       "</style>\n",
       "<table border=\"1\" class=\"dataframe\">\n",
       "  <thead>\n",
       "    <tr style=\"text-align: right;\">\n",
       "      <th></th>\n",
       "      <th>event_id</th>\n",
       "      <th>game_session</th>\n",
       "      <th>installation_id</th>\n",
       "      <th>event_count</th>\n",
       "      <th>event_code</th>\n",
       "      <th>game_time</th>\n",
       "      <th>title</th>\n",
       "      <th>type</th>\n",
       "      <th>world</th>\n",
       "    </tr>\n",
       "  </thead>\n",
       "  <tbody>\n",
       "    <tr>\n",
       "      <td>0</td>\n",
       "      <td>27253bdc</td>\n",
       "      <td>45bb1e1b6b50c07b</td>\n",
       "      <td>0001e90f</td>\n",
       "      <td>1</td>\n",
       "      <td>2000</td>\n",
       "      <td>0</td>\n",
       "      <td>Welcome to Lost Lagoon!</td>\n",
       "      <td>Clip</td>\n",
       "      <td>NONE</td>\n",
       "    </tr>\n",
       "    <tr>\n",
       "      <td>1</td>\n",
       "      <td>27253bdc</td>\n",
       "      <td>17eeb7f223665f53</td>\n",
       "      <td>0001e90f</td>\n",
       "      <td>1</td>\n",
       "      <td>2000</td>\n",
       "      <td>0</td>\n",
       "      <td>Magma Peak - Level 1</td>\n",
       "      <td>Clip</td>\n",
       "      <td>MAGMAPEAK</td>\n",
       "    </tr>\n",
       "    <tr>\n",
       "      <td>2</td>\n",
       "      <td>77261ab5</td>\n",
       "      <td>0848ef14a8dc6892</td>\n",
       "      <td>0001e90f</td>\n",
       "      <td>1</td>\n",
       "      <td>2000</td>\n",
       "      <td>0</td>\n",
       "      <td>Sandcastle Builder (Activity)</td>\n",
       "      <td>Activity</td>\n",
       "      <td>MAGMAPEAK</td>\n",
       "    </tr>\n",
       "    <tr>\n",
       "      <td>3</td>\n",
       "      <td>b2dba42b</td>\n",
       "      <td>0848ef14a8dc6892</td>\n",
       "      <td>0001e90f</td>\n",
       "      <td>2</td>\n",
       "      <td>3010</td>\n",
       "      <td>53</td>\n",
       "      <td>Sandcastle Builder (Activity)</td>\n",
       "      <td>Activity</td>\n",
       "      <td>MAGMAPEAK</td>\n",
       "    </tr>\n",
       "    <tr>\n",
       "      <td>4</td>\n",
       "      <td>1bb5fbdb</td>\n",
       "      <td>0848ef14a8dc6892</td>\n",
       "      <td>0001e90f</td>\n",
       "      <td>3</td>\n",
       "      <td>3110</td>\n",
       "      <td>6972</td>\n",
       "      <td>Sandcastle Builder (Activity)</td>\n",
       "      <td>Activity</td>\n",
       "      <td>MAGMAPEAK</td>\n",
       "    </tr>\n",
       "  </tbody>\n",
       "</table>\n",
       "</div>"
      ],
      "text/plain": [
       "   event_id      game_session installation_id  event_count  event_code  \\\n",
       "0  27253bdc  45bb1e1b6b50c07b        0001e90f            1        2000   \n",
       "1  27253bdc  17eeb7f223665f53        0001e90f            1        2000   \n",
       "2  77261ab5  0848ef14a8dc6892        0001e90f            1        2000   \n",
       "3  b2dba42b  0848ef14a8dc6892        0001e90f            2        3010   \n",
       "4  1bb5fbdb  0848ef14a8dc6892        0001e90f            3        3110   \n",
       "\n",
       "   game_time                          title      type      world  \n",
       "0          0        Welcome to Lost Lagoon!      Clip       NONE  \n",
       "1          0           Magma Peak - Level 1      Clip  MAGMAPEAK  \n",
       "2          0  Sandcastle Builder (Activity)  Activity  MAGMAPEAK  \n",
       "3         53  Sandcastle Builder (Activity)  Activity  MAGMAPEAK  \n",
       "4       6972  Sandcastle Builder (Activity)  Activity  MAGMAPEAK  "
      ]
     },
     "execution_count": 24,
     "metadata": {},
     "output_type": "execute_result"
    }
   ],
   "source": [
    "train.head()"
   ]
  },
  {
   "cell_type": "markdown",
   "metadata": {},
   "source": [
    "**Log(Count) of Observations by installation_id**"
   ]
  },
  {
   "cell_type": "code",
   "execution_count": 25,
   "metadata": {
    "_kg_hide-input": true
   },
   "outputs": [],
   "source": [
    "\n",
    "palete = sns.color_palette(n_colors=10)"
   ]
  },
  {
   "cell_type": "code",
   "execution_count": 26,
   "metadata": {
    "_kg_hide-input": true
   },
   "outputs": [
    {
     "data": {
      "image/png": "[encoded data removed]",
      "text/plain": [
       "<Figure size 1080x360 with 1 Axes>"
      ]
     },
     "metadata": {
      "needs_background": "light"
     },
     "output_type": "display_data"
    }
   ],
   "source": [
    "train.groupby('installation_id') \\\n",
    "    .count()['event_id'] \\\n",
    "    .apply(np.log1p) \\\n",
    "    .plot(kind='hist',\n",
    "          bins=40,\n",
    "          color=palete[1],\n",
    "         figsize=(15, 5),\n",
    "         title='Log(Count) of Observations by installation_id')\n",
    "plt.show()"
   ]
  },
  {
   "cell_type": "markdown",
   "metadata": {},
   "source": [
    "#### Count of Observation by Game/Video title"
   ]
  },
  {
   "cell_type": "code",
   "execution_count": 27,
   "metadata": {
    "_kg_hide-input": true
   },
   "outputs": [
    {
     "data": {
      "image/png": "[encoded data removed]",
      "text/plain": [
       "<Figure size 1080x1080 with 1 Axes>"
      ]
     },
     "metadata": {
      "needs_background": "light"
     },
     "output_type": "display_data"
    }
   ],
   "source": [
    "train.groupby('title')['event_id'] \\\n",
    "    .count() \\\n",
    "    .sort_values() \\\n",
    "    .plot(kind='barh',\n",
    "          title='Count of Observation by Game/Video title',\n",
    "         color=palete[1],\n",
    "         figsize=(15, 15))\n",
    "plt.show()"
   ]
  },
  {
   "cell_type": "markdown",
   "metadata": {},
   "source": [
    "#### Count by World"
   ]
  },
  {
   "cell_type": "code",
   "execution_count": 28,
   "metadata": {
    "_kg_hide-input": true
   },
   "outputs": [
    {
     "data": {
      "image/png": "[encoded data removed]",
      "text/plain": [
       "<Figure size 1080x288 with 1 Axes>"
      ]
     },
     "metadata": {
      "needs_background": "light"
     },
     "output_type": "display_data"
    }
   ],
   "source": [
    "train.groupby('world')['event_id'] \\\n",
    "    .count() \\\n",
    "    .sort_values() \\\n",
    "    .plot(kind='bar',\n",
    "          figsize=(15, 4),\n",
    "          title='Count by World',\n",
    "          color=palete[1])\n",
    "plt.show()"
   ]
  },
  {
   "cell_type": "markdown",
   "metadata": {},
   "source": [
    "# <a id='11'>11. Simple Baseline </a>\n",
    "<a href= '#1'> Top</a>\n",
    "\n"
   ]
  },
  {
   "cell_type": "markdown",
   "metadata": {},
   "source": [
    "See this noteboks [simple lgbm](https://www.kaggle.com/xhlulu/ds-bowl-2019-simple-lgbm-using-aggregated-data),[simple lgbm CV](https://kaggle.com/tanreinama/ds-bowl-2019-simple-lgbm-aggregated-data-with-cv\n",
    ").(Simple and Helpful)\n"
   ]
  },
  {
   "cell_type": "markdown",
   "metadata": {},
   "source": [
    "*     group1 and group2 are intermediary \"game session\" groups,\n",
    "*     which are reduced to one record by game session. group1 takes\n",
    "*     the max value of game_time (final game time in a session) and \n",
    "*     of event_count (total number of events happened in the session).\n",
    "*     group2 takes the total number of event_code of each type"
   ]
  },
  {
   "cell_type": "code",
   "execution_count": 29,
   "metadata": {
    "_kg_hide-input": true
   },
   "outputs": [],
   "source": [
    "def group_and_reduce(df):\n",
    "    # group1 and group2 are intermediary \"game session\" groups,\n",
    "    # which are reduced to one record by game session. group1 takes\n",
    "    # the max value of game_time (final game time in a session) and \n",
    "    # of event_count (total number of events happened in the session).\n",
    "    # group2 takes the total number of event_code of each type\n",
    "    group1 = df.drop(columns=['event_id', 'event_code']).groupby(\n",
    "        ['game_session', 'installation_id', 'title', 'type', 'world']\n",
    "    ).max().reset_index()\n",
    "\n",
    "    group2 = pd.get_dummies(\n",
    "        df[['installation_id', 'event_code']], \n",
    "        columns=['event_code']\n",
    "    ).groupby(['installation_id']).sum()\n",
    "\n",
    "    # group3, group4 and group5 are grouped by installation_id \n",
    "    # and reduced using summation and other summary stats\n",
    "    group3 = pd.get_dummies(\n",
    "        group1.drop(columns=['game_session', 'event_count', 'game_time']),\n",
    "        columns=['title', 'type', 'world']\n",
    "    ).groupby(['installation_id']).sum()\n",
    "\n",
    "    group4 = group1[\n",
    "        ['installation_id', 'event_count', 'game_time']\n",
    "    ].groupby(\n",
    "        ['installation_id']\n",
    "    ).agg([np.sum, np.mean, np.std])\n",
    "\n",
    "    return group2.join(group3).join(group4)"
   ]
  },
  {
   "cell_type": "code",
   "execution_count": 30,
   "metadata": {
    "_kg_hide-input": true
   },
   "outputs": [
    {
     "name": "stdout",
     "output_type": "stream",
     "text": [
      "(17000, 100)\n",
      "CPU times: user 16.8 s, sys: 12.8 s, total: 29.6 s\n",
      "Wall time: 28.5 s\n"
     ]
    },
    {
     "data": {
      "text/html": [
       "<div>\n",
       "<style scoped>\n",
       "    .dataframe tbody tr th:only-of-type {\n",
       "        vertical-align: middle;\n",
       "    }\n",
       "\n",
       "    .dataframe tbody tr th {\n",
       "        vertical-align: top;\n",
       "    }\n",
       "\n",
       "    .dataframe thead th {\n",
       "        text-align: right;\n",
       "    }\n",
       "</style>\n",
       "<table border=\"1\" class=\"dataframe\">\n",
       "  <thead>\n",
       "    <tr style=\"text-align: right;\">\n",
       "      <th></th>\n",
       "      <th>event_code_2000</th>\n",
       "      <th>event_code_2010</th>\n",
       "      <th>event_code_2020</th>\n",
       "      <th>event_code_2025</th>\n",
       "      <th>event_code_2030</th>\n",
       "      <th>event_code_2035</th>\n",
       "      <th>event_code_2040</th>\n",
       "      <th>event_code_2050</th>\n",
       "      <th>event_code_2060</th>\n",
       "      <th>event_code_2070</th>\n",
       "      <th>event_code_2075</th>\n",
       "      <th>event_code_2080</th>\n",
       "      <th>event_code_2081</th>\n",
       "      <th>event_code_2083</th>\n",
       "      <th>event_code_3010</th>\n",
       "      <th>event_code_3020</th>\n",
       "      <th>event_code_3021</th>\n",
       "      <th>event_code_3110</th>\n",
       "      <th>event_code_3120</th>\n",
       "      <th>event_code_3121</th>\n",
       "      <th>event_code_4010</th>\n",
       "      <th>event_code_4020</th>\n",
       "      <th>event_code_4021</th>\n",
       "      <th>event_code_4022</th>\n",
       "      <th>event_code_4025</th>\n",
       "      <th>event_code_4030</th>\n",
       "      <th>event_code_4031</th>\n",
       "      <th>event_code_4035</th>\n",
       "      <th>event_code_4040</th>\n",
       "      <th>event_code_4045</th>\n",
       "      <th>event_code_4050</th>\n",
       "      <th>event_code_4070</th>\n",
       "      <th>event_code_4080</th>\n",
       "      <th>event_code_4090</th>\n",
       "      <th>event_code_4095</th>\n",
       "      <th>event_code_4100</th>\n",
       "      <th>event_code_4110</th>\n",
       "      <th>event_code_4220</th>\n",
       "      <th>event_code_4230</th>\n",
       "      <th>event_code_4235</th>\n",
       "      <th>event_code_5000</th>\n",
       "      <th>event_code_5010</th>\n",
       "      <th>title_12 Monkeys</th>\n",
       "      <th>title_Air Show</th>\n",
       "      <th>title_All Star Sorting</th>\n",
       "      <th>title_Balancing Act</th>\n",
       "      <th>title_Bird Measurer (Assessment)</th>\n",
       "      <th>title_Bottle Filler (Activity)</th>\n",
       "      <th>title_Bubble Bath</th>\n",
       "      <th>title_Bug Measurer (Activity)</th>\n",
       "      <th>title_Cart Balancer (Assessment)</th>\n",
       "      <th>title_Cauldron Filler (Assessment)</th>\n",
       "      <th>title_Chest Sorter (Assessment)</th>\n",
       "      <th>title_Chicken Balancer (Activity)</th>\n",
       "      <th>title_Chow Time</th>\n",
       "      <th>title_Costume Box</th>\n",
       "      <th>title_Crystal Caves - Level 1</th>\n",
       "      <th>title_Crystal Caves - Level 2</th>\n",
       "      <th>title_Crystal Caves - Level 3</th>\n",
       "      <th>title_Crystals Rule</th>\n",
       "      <th>title_Dino Dive</th>\n",
       "      <th>title_Dino Drink</th>\n",
       "      <th>title_Egg Dropper (Activity)</th>\n",
       "      <th>title_Fireworks (Activity)</th>\n",
       "      <th>title_Flower Waterer (Activity)</th>\n",
       "      <th>title_Happy Camel</th>\n",
       "      <th>title_Heavy, Heavier, Heaviest</th>\n",
       "      <th>title_Honey Cake</th>\n",
       "      <th>title_Leaf Leader</th>\n",
       "      <th>title_Lifting Heavy Things</th>\n",
       "      <th>title_Magma Peak - Level 1</th>\n",
       "      <th>title_Magma Peak - Level 2</th>\n",
       "      <th>title_Mushroom Sorter (Assessment)</th>\n",
       "      <th>title_Ordering Spheres</th>\n",
       "      <th>title_Pan Balance</th>\n",
       "      <th>title_Pirate's Tale</th>\n",
       "      <th>title_Rulers</th>\n",
       "      <th>title_Sandcastle Builder (Activity)</th>\n",
       "      <th>title_Scrub-A-Dub</th>\n",
       "      <th>title_Slop Problem</th>\n",
       "      <th>title_Treasure Map</th>\n",
       "      <th>title_Tree Top City - Level 1</th>\n",
       "      <th>title_Tree Top City - Level 2</th>\n",
       "      <th>title_Tree Top City - Level 3</th>\n",
       "      <th>title_Watering Hole (Activity)</th>\n",
       "      <th>title_Welcome to Lost Lagoon!</th>\n",
       "      <th>type_Activity</th>\n",
       "      <th>type_Assessment</th>\n",
       "      <th>type_Clip</th>\n",
       "      <th>type_Game</th>\n",
       "      <th>world_CRYSTALCAVES</th>\n",
       "      <th>world_MAGMAPEAK</th>\n",
       "      <th>world_NONE</th>\n",
       "      <th>world_TREETOPCITY</th>\n",
       "      <th>(event_count, sum)</th>\n",
       "      <th>(event_count, mean)</th>\n",
       "      <th>(event_count, std)</th>\n",
       "      <th>(game_time, sum)</th>\n",
       "      <th>(game_time, mean)</th>\n",
       "      <th>(game_time, std)</th>\n",
       "    </tr>\n",
       "    <tr>\n",
       "      <th>installation_id</th>\n",
       "      <th></th>\n",
       "      <th></th>\n",
       "      <th></th>\n",
       "      <th></th>\n",
       "      <th></th>\n",
       "      <th></th>\n",
       "      <th></th>\n",
       "      <th></th>\n",
       "      <th></th>\n",
       "      <th></th>\n",
       "      <th></th>\n",
       "      <th></th>\n",
       "      <th></th>\n",
       "      <th></th>\n",
       "      <th></th>\n",
       "      <th></th>\n",
       "      <th></th>\n",
       "      <th></th>\n",
       "      <th></th>\n",
       "      <th></th>\n",
       "      <th></th>\n",
       "      <th></th>\n",
       "      <th></th>\n",
       "      <th></th>\n",
       "      <th></th>\n",
       "      <th></th>\n",
       "      <th></th>\n",
       "      <th></th>\n",
       "      <th></th>\n",
       "      <th></th>\n",
       "      <th></th>\n",
       "      <th></th>\n",
       "      <th></th>\n",
       "      <th></th>\n",
       "      <th></th>\n",
       "      <th></th>\n",
       "      <th></th>\n",
       "      <th></th>\n",
       "      <th></th>\n",
       "      <th></th>\n",
       "      <th></th>\n",
       "      <th></th>\n",
       "      <th></th>\n",
       "      <th></th>\n",
       "      <th></th>\n",
       "      <th></th>\n",
       "      <th></th>\n",
       "      <th></th>\n",
       "      <th></th>\n",
       "      <th></th>\n",
       "      <th></th>\n",
       "      <th></th>\n",
       "      <th></th>\n",
       "      <th></th>\n",
       "      <th></th>\n",
       "      <th></th>\n",
       "      <th></th>\n",
       "      <th></th>\n",
       "      <th></th>\n",
       "      <th></th>\n",
       "      <th></th>\n",
       "      <th></th>\n",
       "      <th></th>\n",
       "      <th></th>\n",
       "      <th></th>\n",
       "      <th></th>\n",
       "      <th></th>\n",
       "      <th></th>\n",
       "      <th></th>\n",
       "      <th></th>\n",
       "      <th></th>\n",
       "      <th></th>\n",
       "      <th></th>\n",
       "      <th></th>\n",
       "      <th></th>\n",
       "      <th></th>\n",
       "      <th></th>\n",
       "      <th></th>\n",
       "      <th></th>\n",
       "      <th></th>\n",
       "      <th></th>\n",
       "      <th></th>\n",
       "      <th></th>\n",
       "      <th></th>\n",
       "      <th></th>\n",
       "      <th></th>\n",
       "      <th></th>\n",
       "      <th></th>\n",
       "      <th></th>\n",
       "      <th></th>\n",
       "      <th></th>\n",
       "      <th></th>\n",
       "      <th></th>\n",
       "      <th></th>\n",
       "      <th></th>\n",
       "      <th></th>\n",
       "      <th></th>\n",
       "      <th></th>\n",
       "      <th></th>\n",
       "      <th></th>\n",
       "    </tr>\n",
       "  </thead>\n",
       "  <tbody>\n",
       "    <tr>\n",
       "      <td>0001e90f</td>\n",
       "      <td>10.0</td>\n",
       "      <td>0.0</td>\n",
       "      <td>61.0</td>\n",
       "      <td>0.0</td>\n",
       "      <td>60.0</td>\n",
       "      <td>0.0</td>\n",
       "      <td>15.0</td>\n",
       "      <td>15.0</td>\n",
       "      <td>1.0</td>\n",
       "      <td>1.0</td>\n",
       "      <td>0.0</td>\n",
       "      <td>10.0</td>\n",
       "      <td>0.0</td>\n",
       "      <td>9.0</td>\n",
       "      <td>136.0</td>\n",
       "      <td>32.0</td>\n",
       "      <td>26.0</td>\n",
       "      <td>135.0</td>\n",
       "      <td>32.0</td>\n",
       "      <td>26.0</td>\n",
       "      <td>2.0</td>\n",
       "      <td>119.0</td>\n",
       "      <td>36.0</td>\n",
       "      <td>0.0</td>\n",
       "      <td>0.0</td>\n",
       "      <td>127.0</td>\n",
       "      <td>13.0</td>\n",
       "      <td>55.0</td>\n",
       "      <td>0.0</td>\n",
       "      <td>0.0</td>\n",
       "      <td>0.0</td>\n",
       "      <td>435.0</td>\n",
       "      <td>0.0</td>\n",
       "      <td>1.0</td>\n",
       "      <td>0.0</td>\n",
       "      <td>0.0</td>\n",
       "      <td>0.0</td>\n",
       "      <td>0.0</td>\n",
       "      <td>0.0</td>\n",
       "      <td>0.0</td>\n",
       "      <td>0.0</td>\n",
       "      <td>0.0</td>\n",
       "      <td>0.0</td>\n",
       "      <td>0.0</td>\n",
       "      <td>0.0</td>\n",
       "      <td>0.0</td>\n",
       "      <td>0.0</td>\n",
       "      <td>0.0</td>\n",
       "      <td>0.0</td>\n",
       "      <td>0.0</td>\n",
       "      <td>0.0</td>\n",
       "      <td>0.0</td>\n",
       "      <td>0.0</td>\n",
       "      <td>0.0</td>\n",
       "      <td>0.0</td>\n",
       "      <td>0.0</td>\n",
       "      <td>0.0</td>\n",
       "      <td>0.0</td>\n",
       "      <td>0.0</td>\n",
       "      <td>0.0</td>\n",
       "      <td>0.0</td>\n",
       "      <td>1.0</td>\n",
       "      <td>0.0</td>\n",
       "      <td>0.0</td>\n",
       "      <td>0.0</td>\n",
       "      <td>0.0</td>\n",
       "      <td>0.0</td>\n",
       "      <td>0.0</td>\n",
       "      <td>0.0</td>\n",
       "      <td>0.0</td>\n",
       "      <td>1.0</td>\n",
       "      <td>1.0</td>\n",
       "      <td>0.0</td>\n",
       "      <td>1.0</td>\n",
       "      <td>0.0</td>\n",
       "      <td>0.0</td>\n",
       "      <td>0.0</td>\n",
       "      <td>3.0</td>\n",
       "      <td>1.0</td>\n",
       "      <td>0.0</td>\n",
       "      <td>0.0</td>\n",
       "      <td>1.0</td>\n",
       "      <td>0.0</td>\n",
       "      <td>0.0</td>\n",
       "      <td>0.0</td>\n",
       "      <td>1.0</td>\n",
       "      <td>3.0</td>\n",
       "      <td>0.0</td>\n",
       "      <td>5.0</td>\n",
       "      <td>2.0</td>\n",
       "      <td>0.0</td>\n",
       "      <td>7.0</td>\n",
       "      <td>1.0</td>\n",
       "      <td>2.0</td>\n",
       "      <td>1357</td>\n",
       "      <td>135.700000</td>\n",
       "      <td>230.198972</td>\n",
       "      <td>1172787</td>\n",
       "      <td>117278.700000</td>\n",
       "      <td>182750.896625</td>\n",
       "    </tr>\n",
       "    <tr>\n",
       "      <td>000447c4</td>\n",
       "      <td>5.0</td>\n",
       "      <td>0.0</td>\n",
       "      <td>3.0</td>\n",
       "      <td>0.0</td>\n",
       "      <td>3.0</td>\n",
       "      <td>0.0</td>\n",
       "      <td>0.0</td>\n",
       "      <td>0.0</td>\n",
       "      <td>1.0</td>\n",
       "      <td>1.0</td>\n",
       "      <td>0.0</td>\n",
       "      <td>0.0</td>\n",
       "      <td>0.0</td>\n",
       "      <td>0.0</td>\n",
       "      <td>17.0</td>\n",
       "      <td>0.0</td>\n",
       "      <td>11.0</td>\n",
       "      <td>16.0</td>\n",
       "      <td>0.0</td>\n",
       "      <td>11.0</td>\n",
       "      <td>1.0</td>\n",
       "      <td>18.0</td>\n",
       "      <td>4.0</td>\n",
       "      <td>0.0</td>\n",
       "      <td>8.0</td>\n",
       "      <td>16.0</td>\n",
       "      <td>13.0</td>\n",
       "      <td>0.0</td>\n",
       "      <td>0.0</td>\n",
       "      <td>0.0</td>\n",
       "      <td>0.0</td>\n",
       "      <td>44.0</td>\n",
       "      <td>0.0</td>\n",
       "      <td>1.0</td>\n",
       "      <td>0.0</td>\n",
       "      <td>0.0</td>\n",
       "      <td>0.0</td>\n",
       "      <td>0.0</td>\n",
       "      <td>0.0</td>\n",
       "      <td>0.0</td>\n",
       "      <td>4.0</td>\n",
       "      <td>4.0</td>\n",
       "      <td>0.0</td>\n",
       "      <td>0.0</td>\n",
       "      <td>0.0</td>\n",
       "      <td>0.0</td>\n",
       "      <td>0.0</td>\n",
       "      <td>0.0</td>\n",
       "      <td>0.0</td>\n",
       "      <td>0.0</td>\n",
       "      <td>0.0</td>\n",
       "      <td>0.0</td>\n",
       "      <td>0.0</td>\n",
       "      <td>0.0</td>\n",
       "      <td>0.0</td>\n",
       "      <td>0.0</td>\n",
       "      <td>0.0</td>\n",
       "      <td>0.0</td>\n",
       "      <td>0.0</td>\n",
       "      <td>0.0</td>\n",
       "      <td>0.0</td>\n",
       "      <td>1.0</td>\n",
       "      <td>0.0</td>\n",
       "      <td>0.0</td>\n",
       "      <td>0.0</td>\n",
       "      <td>0.0</td>\n",
       "      <td>0.0</td>\n",
       "      <td>0.0</td>\n",
       "      <td>0.0</td>\n",
       "      <td>0.0</td>\n",
       "      <td>1.0</td>\n",
       "      <td>1.0</td>\n",
       "      <td>0.0</td>\n",
       "      <td>0.0</td>\n",
       "      <td>0.0</td>\n",
       "      <td>0.0</td>\n",
       "      <td>0.0</td>\n",
       "      <td>0.0</td>\n",
       "      <td>0.0</td>\n",
       "      <td>0.0</td>\n",
       "      <td>0.0</td>\n",
       "      <td>0.0</td>\n",
       "      <td>0.0</td>\n",
       "      <td>0.0</td>\n",
       "      <td>1.0</td>\n",
       "      <td>1.0</td>\n",
       "      <td>1.0</td>\n",
       "      <td>0.0</td>\n",
       "      <td>3.0</td>\n",
       "      <td>1.0</td>\n",
       "      <td>0.0</td>\n",
       "      <td>4.0</td>\n",
       "      <td>1.0</td>\n",
       "      <td>0.0</td>\n",
       "      <td>181</td>\n",
       "      <td>36.200000</td>\n",
       "      <td>54.182100</td>\n",
       "      <td>277707</td>\n",
       "      <td>55541.400000</td>\n",
       "      <td>80311.743287</td>\n",
       "    </tr>\n",
       "    <tr>\n",
       "      <td>0006a69f</td>\n",
       "      <td>80.0</td>\n",
       "      <td>4.0</td>\n",
       "      <td>112.0</td>\n",
       "      <td>12.0</td>\n",
       "      <td>97.0</td>\n",
       "      <td>8.0</td>\n",
       "      <td>21.0</td>\n",
       "      <td>18.0</td>\n",
       "      <td>7.0</td>\n",
       "      <td>2.0</td>\n",
       "      <td>3.0</td>\n",
       "      <td>17.0</td>\n",
       "      <td>6.0</td>\n",
       "      <td>10.0</td>\n",
       "      <td>620.0</td>\n",
       "      <td>34.0</td>\n",
       "      <td>89.0</td>\n",
       "      <td>610.0</td>\n",
       "      <td>34.0</td>\n",
       "      <td>89.0</td>\n",
       "      <td>19.0</td>\n",
       "      <td>404.0</td>\n",
       "      <td>67.0</td>\n",
       "      <td>45.0</td>\n",
       "      <td>128.0</td>\n",
       "      <td>471.0</td>\n",
       "      <td>25.0</td>\n",
       "      <td>35.0</td>\n",
       "      <td>18.0</td>\n",
       "      <td>4.0</td>\n",
       "      <td>0.0</td>\n",
       "      <td>592.0</td>\n",
       "      <td>0.0</td>\n",
       "      <td>4.0</td>\n",
       "      <td>2.0</td>\n",
       "      <td>13.0</td>\n",
       "      <td>14.0</td>\n",
       "      <td>13.0</td>\n",
       "      <td>25.0</td>\n",
       "      <td>25.0</td>\n",
       "      <td>12.0</td>\n",
       "      <td>12.0</td>\n",
       "      <td>2.0</td>\n",
       "      <td>2.0</td>\n",
       "      <td>4.0</td>\n",
       "      <td>0.0</td>\n",
       "      <td>2.0</td>\n",
       "      <td>2.0</td>\n",
       "      <td>2.0</td>\n",
       "      <td>2.0</td>\n",
       "      <td>0.0</td>\n",
       "      <td>0.0</td>\n",
       "      <td>0.0</td>\n",
       "      <td>0.0</td>\n",
       "      <td>0.0</td>\n",
       "      <td>3.0</td>\n",
       "      <td>0.0</td>\n",
       "      <td>0.0</td>\n",
       "      <td>0.0</td>\n",
       "      <td>3.0</td>\n",
       "      <td>2.0</td>\n",
       "      <td>3.0</td>\n",
       "      <td>0.0</td>\n",
       "      <td>2.0</td>\n",
       "      <td>2.0</td>\n",
       "      <td>0.0</td>\n",
       "      <td>0.0</td>\n",
       "      <td>0.0</td>\n",
       "      <td>0.0</td>\n",
       "      <td>0.0</td>\n",
       "      <td>4.0</td>\n",
       "      <td>3.0</td>\n",
       "      <td>4.0</td>\n",
       "      <td>2.0</td>\n",
       "      <td>0.0</td>\n",
       "      <td>2.0</td>\n",
       "      <td>2.0</td>\n",
       "      <td>6.0</td>\n",
       "      <td>4.0</td>\n",
       "      <td>6.0</td>\n",
       "      <td>3.0</td>\n",
       "      <td>2.0</td>\n",
       "      <td>2.0</td>\n",
       "      <td>2.0</td>\n",
       "      <td>3.0</td>\n",
       "      <td>4.0</td>\n",
       "      <td>17.0</td>\n",
       "      <td>6.0</td>\n",
       "      <td>37.0</td>\n",
       "      <td>20.0</td>\n",
       "      <td>0.0</td>\n",
       "      <td>35.0</td>\n",
       "      <td>4.0</td>\n",
       "      <td>41.0</td>\n",
       "      <td>3801</td>\n",
       "      <td>47.512500</td>\n",
       "      <td>58.236531</td>\n",
       "      <td>5575453</td>\n",
       "      <td>69693.162500</td>\n",
       "      <td>177206.811293</td>\n",
       "    </tr>\n",
       "    <tr>\n",
       "      <td>0006c192</td>\n",
       "      <td>50.0</td>\n",
       "      <td>0.0</td>\n",
       "      <td>52.0</td>\n",
       "      <td>2.0</td>\n",
       "      <td>45.0</td>\n",
       "      <td>2.0</td>\n",
       "      <td>6.0</td>\n",
       "      <td>5.0</td>\n",
       "      <td>1.0</td>\n",
       "      <td>1.0</td>\n",
       "      <td>0.0</td>\n",
       "      <td>4.0</td>\n",
       "      <td>1.0</td>\n",
       "      <td>3.0</td>\n",
       "      <td>251.0</td>\n",
       "      <td>29.0</td>\n",
       "      <td>22.0</td>\n",
       "      <td>245.0</td>\n",
       "      <td>29.0</td>\n",
       "      <td>20.0</td>\n",
       "      <td>7.0</td>\n",
       "      <td>197.0</td>\n",
       "      <td>65.0</td>\n",
       "      <td>37.0</td>\n",
       "      <td>34.0</td>\n",
       "      <td>340.0</td>\n",
       "      <td>0.0</td>\n",
       "      <td>49.0</td>\n",
       "      <td>20.0</td>\n",
       "      <td>1.0</td>\n",
       "      <td>0.0</td>\n",
       "      <td>676.0</td>\n",
       "      <td>0.0</td>\n",
       "      <td>4.0</td>\n",
       "      <td>1.0</td>\n",
       "      <td>6.0</td>\n",
       "      <td>2.0</td>\n",
       "      <td>5.0</td>\n",
       "      <td>6.0</td>\n",
       "      <td>6.0</td>\n",
       "      <td>0.0</td>\n",
       "      <td>0.0</td>\n",
       "      <td>1.0</td>\n",
       "      <td>0.0</td>\n",
       "      <td>0.0</td>\n",
       "      <td>2.0</td>\n",
       "      <td>1.0</td>\n",
       "      <td>1.0</td>\n",
       "      <td>1.0</td>\n",
       "      <td>1.0</td>\n",
       "      <td>0.0</td>\n",
       "      <td>2.0</td>\n",
       "      <td>0.0</td>\n",
       "      <td>1.0</td>\n",
       "      <td>1.0</td>\n",
       "      <td>0.0</td>\n",
       "      <td>3.0</td>\n",
       "      <td>3.0</td>\n",
       "      <td>1.0</td>\n",
       "      <td>1.0</td>\n",
       "      <td>1.0</td>\n",
       "      <td>0.0</td>\n",
       "      <td>0.0</td>\n",
       "      <td>0.0</td>\n",
       "      <td>1.0</td>\n",
       "      <td>0.0</td>\n",
       "      <td>0.0</td>\n",
       "      <td>0.0</td>\n",
       "      <td>0.0</td>\n",
       "      <td>1.0</td>\n",
       "      <td>2.0</td>\n",
       "      <td>3.0</td>\n",
       "      <td>1.0</td>\n",
       "      <td>1.0</td>\n",
       "      <td>1.0</td>\n",
       "      <td>1.0</td>\n",
       "      <td>3.0</td>\n",
       "      <td>3.0</td>\n",
       "      <td>1.0</td>\n",
       "      <td>0.0</td>\n",
       "      <td>1.0</td>\n",
       "      <td>3.0</td>\n",
       "      <td>1.0</td>\n",
       "      <td>2.0</td>\n",
       "      <td>1.0</td>\n",
       "      <td>4.0</td>\n",
       "      <td>8.0</td>\n",
       "      <td>4.0</td>\n",
       "      <td>32.0</td>\n",
       "      <td>6.0</td>\n",
       "      <td>13.0</td>\n",
       "      <td>15.0</td>\n",
       "      <td>4.0</td>\n",
       "      <td>18.0</td>\n",
       "      <td>2224</td>\n",
       "      <td>44.480000</td>\n",
       "      <td>76.898619</td>\n",
       "      <td>2063664</td>\n",
       "      <td>41273.280000</td>\n",
       "      <td>82496.162713</td>\n",
       "    </tr>\n",
       "    <tr>\n",
       "      <td>0009a5a9</td>\n",
       "      <td>7.0</td>\n",
       "      <td>0.0</td>\n",
       "      <td>10.0</td>\n",
       "      <td>0.0</td>\n",
       "      <td>9.0</td>\n",
       "      <td>0.0</td>\n",
       "      <td>0.0</td>\n",
       "      <td>0.0</td>\n",
       "      <td>1.0</td>\n",
       "      <td>1.0</td>\n",
       "      <td>0.0</td>\n",
       "      <td>0.0</td>\n",
       "      <td>0.0</td>\n",
       "      <td>0.0</td>\n",
       "      <td>51.0</td>\n",
       "      <td>1.0</td>\n",
       "      <td>11.0</td>\n",
       "      <td>51.0</td>\n",
       "      <td>1.0</td>\n",
       "      <td>11.0</td>\n",
       "      <td>1.0</td>\n",
       "      <td>35.0</td>\n",
       "      <td>21.0</td>\n",
       "      <td>0.0</td>\n",
       "      <td>14.0</td>\n",
       "      <td>25.0</td>\n",
       "      <td>0.0</td>\n",
       "      <td>7.0</td>\n",
       "      <td>0.0</td>\n",
       "      <td>0.0</td>\n",
       "      <td>0.0</td>\n",
       "      <td>142.0</td>\n",
       "      <td>0.0</td>\n",
       "      <td>1.0</td>\n",
       "      <td>0.0</td>\n",
       "      <td>0.0</td>\n",
       "      <td>0.0</td>\n",
       "      <td>0.0</td>\n",
       "      <td>0.0</td>\n",
       "      <td>0.0</td>\n",
       "      <td>6.0</td>\n",
       "      <td>6.0</td>\n",
       "      <td>0.0</td>\n",
       "      <td>0.0</td>\n",
       "      <td>0.0</td>\n",
       "      <td>0.0</td>\n",
       "      <td>0.0</td>\n",
       "      <td>0.0</td>\n",
       "      <td>0.0</td>\n",
       "      <td>0.0</td>\n",
       "      <td>0.0</td>\n",
       "      <td>0.0</td>\n",
       "      <td>0.0</td>\n",
       "      <td>0.0</td>\n",
       "      <td>0.0</td>\n",
       "      <td>0.0</td>\n",
       "      <td>0.0</td>\n",
       "      <td>0.0</td>\n",
       "      <td>0.0</td>\n",
       "      <td>0.0</td>\n",
       "      <td>1.0</td>\n",
       "      <td>0.0</td>\n",
       "      <td>0.0</td>\n",
       "      <td>0.0</td>\n",
       "      <td>0.0</td>\n",
       "      <td>0.0</td>\n",
       "      <td>0.0</td>\n",
       "      <td>0.0</td>\n",
       "      <td>0.0</td>\n",
       "      <td>0.0</td>\n",
       "      <td>1.0</td>\n",
       "      <td>1.0</td>\n",
       "      <td>0.0</td>\n",
       "      <td>0.0</td>\n",
       "      <td>0.0</td>\n",
       "      <td>0.0</td>\n",
       "      <td>0.0</td>\n",
       "      <td>1.0</td>\n",
       "      <td>0.0</td>\n",
       "      <td>1.0</td>\n",
       "      <td>0.0</td>\n",
       "      <td>0.0</td>\n",
       "      <td>0.0</td>\n",
       "      <td>0.0</td>\n",
       "      <td>1.0</td>\n",
       "      <td>1.0</td>\n",
       "      <td>2.0</td>\n",
       "      <td>0.0</td>\n",
       "      <td>4.0</td>\n",
       "      <td>1.0</td>\n",
       "      <td>0.0</td>\n",
       "      <td>6.0</td>\n",
       "      <td>1.0</td>\n",
       "      <td>0.0</td>\n",
       "      <td>412</td>\n",
       "      <td>58.857143</td>\n",
       "      <td>77.962445</td>\n",
       "      <td>1854998</td>\n",
       "      <td>264999.714286</td>\n",
       "      <td>627146.960108</td>\n",
       "    </tr>\n",
       "  </tbody>\n",
       "</table>\n",
       "</div>"
      ],
      "text/plain": [
       "                 event_code_2000  event_code_2010  event_code_2020  \\\n",
       "installation_id                                                      \n",
       "0001e90f                    10.0              0.0             61.0   \n",
       "000447c4                     5.0              0.0              3.0   \n",
       "0006a69f                    80.0              4.0            112.0   \n",
       "0006c192                    50.0              0.0             52.0   \n",
       "0009a5a9                     7.0              0.0             10.0   \n",
       "\n",
       "                 event_code_2025  event_code_2030  event_code_2035  \\\n",
       "installation_id                                                      \n",
       "0001e90f                     0.0             60.0              0.0   \n",
       "000447c4                     0.0              3.0              0.0   \n",
       "0006a69f                    12.0             97.0              8.0   \n",
       "0006c192                     2.0             45.0              2.0   \n",
       "0009a5a9                     0.0              9.0              0.0   \n",
       "\n",
       "                 event_code_2040  event_code_2050  event_code_2060  \\\n",
       "installation_id                                                      \n",
       "0001e90f                    15.0             15.0              1.0   \n",
       "000447c4                     0.0              0.0              1.0   \n",
       "0006a69f                    21.0             18.0              7.0   \n",
       "0006c192                     6.0              5.0              1.0   \n",
       "0009a5a9                     0.0              0.0              1.0   \n",
       "\n",
       "                 event_code_2070  event_code_2075  event_code_2080  \\\n",
       "installation_id                                                      \n",
       "0001e90f                     1.0              0.0             10.0   \n",
       "000447c4                     1.0              0.0              0.0   \n",
       "0006a69f                     2.0              3.0             17.0   \n",
       "0006c192                     1.0              0.0              4.0   \n",
       "0009a5a9                     1.0              0.0              0.0   \n",
       "\n",
       "                 event_code_2081  event_code_2083  event_code_3010  \\\n",
       "installation_id                                                      \n",
       "0001e90f                     0.0              9.0            136.0   \n",
       "000447c4                     0.0              0.0             17.0   \n",
       "0006a69f                     6.0             10.0            620.0   \n",
       "0006c192                     1.0              3.0            251.0   \n",
       "0009a5a9                     0.0              0.0             51.0   \n",
       "\n",
       "                 event_code_3020  event_code_3021  event_code_3110  \\\n",
       "installation_id                                                      \n",
       "0001e90f                    32.0             26.0            135.0   \n",
       "000447c4                     0.0             11.0             16.0   \n",
       "0006a69f                    34.0             89.0            610.0   \n",
       "0006c192                    29.0             22.0            245.0   \n",
       "0009a5a9                     1.0             11.0             51.0   \n",
       "\n",
       "                 event_code_3120  event_code_3121  event_code_4010  \\\n",
       "installation_id                                                      \n",
       "0001e90f                    32.0             26.0              2.0   \n",
       "000447c4                     0.0             11.0              1.0   \n",
       "0006a69f                    34.0             89.0             19.0   \n",
       "0006c192                    29.0             20.0              7.0   \n",
       "0009a5a9                     1.0             11.0              1.0   \n",
       "\n",
       "                 event_code_4020  event_code_4021  event_code_4022  \\\n",
       "installation_id                                                      \n",
       "0001e90f                   119.0             36.0              0.0   \n",
       "000447c4                    18.0              4.0              0.0   \n",
       "0006a69f                   404.0             67.0             45.0   \n",
       "0006c192                   197.0             65.0             37.0   \n",
       "0009a5a9                    35.0             21.0              0.0   \n",
       "\n",
       "                 event_code_4025  event_code_4030  event_code_4031  \\\n",
       "installation_id                                                      \n",
       "0001e90f                     0.0            127.0             13.0   \n",
       "000447c4                     8.0             16.0             13.0   \n",
       "0006a69f                   128.0            471.0             25.0   \n",
       "0006c192                    34.0            340.0              0.0   \n",
       "0009a5a9                    14.0             25.0              0.0   \n",
       "\n",
       "                 event_code_4035  event_code_4040  event_code_4045  \\\n",
       "installation_id                                                      \n",
       "0001e90f                    55.0              0.0              0.0   \n",
       "000447c4                     0.0              0.0              0.0   \n",
       "0006a69f                    35.0             18.0              4.0   \n",
       "0006c192                    49.0             20.0              1.0   \n",
       "0009a5a9                     7.0              0.0              0.0   \n",
       "\n",
       "                 event_code_4050  event_code_4070  event_code_4080  \\\n",
       "installation_id                                                      \n",
       "0001e90f                     0.0            435.0              0.0   \n",
       "000447c4                     0.0             44.0              0.0   \n",
       "0006a69f                     0.0            592.0              0.0   \n",
       "0006c192                     0.0            676.0              0.0   \n",
       "0009a5a9                     0.0            142.0              0.0   \n",
       "\n",
       "                 event_code_4090  event_code_4095  event_code_4100  \\\n",
       "installation_id                                                      \n",
       "0001e90f                     1.0              0.0              0.0   \n",
       "000447c4                     1.0              0.0              0.0   \n",
       "0006a69f                     4.0              2.0             13.0   \n",
       "0006c192                     4.0              1.0              6.0   \n",
       "0009a5a9                     1.0              0.0              0.0   \n",
       "\n",
       "                 event_code_4110  event_code_4220  event_code_4230  \\\n",
       "installation_id                                                      \n",
       "0001e90f                     0.0              0.0              0.0   \n",
       "000447c4                     0.0              0.0              0.0   \n",
       "0006a69f                    14.0             13.0             25.0   \n",
       "0006c192                     2.0              5.0              6.0   \n",
       "0009a5a9                     0.0              0.0              0.0   \n",
       "\n",
       "                 event_code_4235  event_code_5000  event_code_5010  \\\n",
       "installation_id                                                      \n",
       "0001e90f                     0.0              0.0              0.0   \n",
       "000447c4                     0.0              4.0              4.0   \n",
       "0006a69f                    25.0             12.0             12.0   \n",
       "0006c192                     6.0              0.0              0.0   \n",
       "0009a5a9                     0.0              6.0              6.0   \n",
       "\n",
       "                 title_12 Monkeys  title_Air Show  title_All Star Sorting  \\\n",
       "installation_id                                                             \n",
       "0001e90f                      0.0             0.0                     0.0   \n",
       "000447c4                      0.0             0.0                     0.0   \n",
       "0006a69f                      2.0             2.0                     4.0   \n",
       "0006c192                      1.0             0.0                     0.0   \n",
       "0009a5a9                      0.0             0.0                     0.0   \n",
       "\n",
       "                 title_Balancing Act  title_Bird Measurer (Assessment)  \\\n",
       "installation_id                                                          \n",
       "0001e90f                         0.0                               0.0   \n",
       "000447c4                         0.0                               0.0   \n",
       "0006a69f                         0.0                               2.0   \n",
       "0006c192                         2.0                               1.0   \n",
       "0009a5a9                         0.0                               0.0   \n",
       "\n",
       "                 title_Bottle Filler (Activity)  title_Bubble Bath  \\\n",
       "installation_id                                                      \n",
       "0001e90f                                    0.0                0.0   \n",
       "000447c4                                    0.0                0.0   \n",
       "0006a69f                                    2.0                2.0   \n",
       "0006c192                                    1.0                1.0   \n",
       "0009a5a9                                    0.0                0.0   \n",
       "\n",
       "                 title_Bug Measurer (Activity)  \\\n",
       "installation_id                                  \n",
       "0001e90f                                   0.0   \n",
       "000447c4                                   0.0   \n",
       "0006a69f                                   2.0   \n",
       "0006c192                                   1.0   \n",
       "0009a5a9                                   0.0   \n",
       "\n",
       "                 title_Cart Balancer (Assessment)  \\\n",
       "installation_id                                     \n",
       "0001e90f                                      0.0   \n",
       "000447c4                                      0.0   \n",
       "0006a69f                                      0.0   \n",
       "0006c192                                      0.0   \n",
       "0009a5a9                                      0.0   \n",
       "\n",
       "                 title_Cauldron Filler (Assessment)  \\\n",
       "installation_id                                       \n",
       "0001e90f                                        0.0   \n",
       "000447c4                                        0.0   \n",
       "0006a69f                                        0.0   \n",
       "0006c192                                        2.0   \n",
       "0009a5a9                                        0.0   \n",
       "\n",
       "                 title_Chest Sorter (Assessment)  \\\n",
       "installation_id                                    \n",
       "0001e90f                                     0.0   \n",
       "000447c4                                     0.0   \n",
       "0006a69f                                     0.0   \n",
       "0006c192                                     0.0   \n",
       "0009a5a9                                     0.0   \n",
       "\n",
       "                 title_Chicken Balancer (Activity)  title_Chow Time  \\\n",
       "installation_id                                                       \n",
       "0001e90f                                       0.0              0.0   \n",
       "000447c4                                       0.0              0.0   \n",
       "0006a69f                                       0.0              0.0   \n",
       "0006c192                                       1.0              1.0   \n",
       "0009a5a9                                       0.0              0.0   \n",
       "\n",
       "                 title_Costume Box  title_Crystal Caves - Level 1  \\\n",
       "installation_id                                                     \n",
       "0001e90f                       0.0                            0.0   \n",
       "000447c4                       0.0                            0.0   \n",
       "0006a69f                       3.0                            0.0   \n",
       "0006c192                       0.0                            3.0   \n",
       "0009a5a9                       0.0                            0.0   \n",
       "\n",
       "                 title_Crystal Caves - Level 2  title_Crystal Caves - Level 3  \\\n",
       "installation_id                                                                 \n",
       "0001e90f                                   0.0                            0.0   \n",
       "000447c4                                   0.0                            0.0   \n",
       "0006a69f                                   0.0                            0.0   \n",
       "0006c192                                   3.0                            1.0   \n",
       "0009a5a9                                   0.0                            0.0   \n",
       "\n",
       "                 title_Crystals Rule  title_Dino Dive  title_Dino Drink  \\\n",
       "installation_id                                                           \n",
       "0001e90f                         0.0              0.0               1.0   \n",
       "000447c4                         0.0              0.0               1.0   \n",
       "0006a69f                         3.0              2.0               3.0   \n",
       "0006c192                         1.0              1.0               0.0   \n",
       "0009a5a9                         0.0              1.0               0.0   \n",
       "\n",
       "                 title_Egg Dropper (Activity)  title_Fireworks (Activity)  \\\n",
       "installation_id                                                             \n",
       "0001e90f                                  0.0                         0.0   \n",
       "000447c4                                  0.0                         0.0   \n",
       "0006a69f                                  0.0                         2.0   \n",
       "0006c192                                  0.0                         0.0   \n",
       "0009a5a9                                  0.0                         0.0   \n",
       "\n",
       "                 title_Flower Waterer (Activity)  title_Happy Camel  \\\n",
       "installation_id                                                       \n",
       "0001e90f                                     0.0                0.0   \n",
       "000447c4                                     0.0                0.0   \n",
       "0006a69f                                     2.0                0.0   \n",
       "0006c192                                     1.0                0.0   \n",
       "0009a5a9                                     0.0                0.0   \n",
       "\n",
       "                 title_Heavy, Heavier, Heaviest  title_Honey Cake  \\\n",
       "installation_id                                                     \n",
       "0001e90f                                    0.0               0.0   \n",
       "000447c4                                    0.0               0.0   \n",
       "0006a69f                                    0.0               0.0   \n",
       "0006c192                                    0.0               0.0   \n",
       "0009a5a9                                    0.0               0.0   \n",
       "\n",
       "                 title_Leaf Leader  title_Lifting Heavy Things  \\\n",
       "installation_id                                                  \n",
       "0001e90f                       0.0                         0.0   \n",
       "000447c4                       0.0                         0.0   \n",
       "0006a69f                       0.0                         0.0   \n",
       "0006c192                       0.0                         1.0   \n",
       "0009a5a9                       0.0                         0.0   \n",
       "\n",
       "                 title_Magma Peak - Level 1  title_Magma Peak - Level 2  \\\n",
       "installation_id                                                           \n",
       "0001e90f                                1.0                         1.0   \n",
       "000447c4                                1.0                         1.0   \n",
       "0006a69f                                4.0                         3.0   \n",
       "0006c192                                2.0                         3.0   \n",
       "0009a5a9                                1.0                         1.0   \n",
       "\n",
       "                 title_Mushroom Sorter (Assessment)  title_Ordering Spheres  \\\n",
       "installation_id                                                               \n",
       "0001e90f                                        0.0                     1.0   \n",
       "000447c4                                        0.0                     0.0   \n",
       "0006a69f                                        4.0                     2.0   \n",
       "0006c192                                        1.0                     1.0   \n",
       "0009a5a9                                        0.0                     0.0   \n",
       "\n",
       "                 title_Pan Balance  title_Pirate's Tale  title_Rulers  \\\n",
       "installation_id                                                         \n",
       "0001e90f                       0.0                  0.0           0.0   \n",
       "000447c4                       0.0                  0.0           0.0   \n",
       "0006a69f                       0.0                  2.0           2.0   \n",
       "0006c192                       1.0                  1.0           3.0   \n",
       "0009a5a9                       0.0                  0.0           0.0   \n",
       "\n",
       "                 title_Sandcastle Builder (Activity)  title_Scrub-A-Dub  \\\n",
       "installation_id                                                           \n",
       "0001e90f                                         3.0                1.0   \n",
       "000447c4                                         0.0                0.0   \n",
       "0006a69f                                         6.0                4.0   \n",
       "0006c192                                         3.0                1.0   \n",
       "0009a5a9                                         1.0                0.0   \n",
       "\n",
       "                 title_Slop Problem  title_Treasure Map  \\\n",
       "installation_id                                           \n",
       "0001e90f                        0.0                 0.0   \n",
       "000447c4                        0.0                 0.0   \n",
       "0006a69f                        6.0                 3.0   \n",
       "0006c192                        0.0                 1.0   \n",
       "0009a5a9                        1.0                 0.0   \n",
       "\n",
       "                 title_Tree Top City - Level 1  title_Tree Top City - Level 2  \\\n",
       "installation_id                                                                 \n",
       "0001e90f                                   1.0                            0.0   \n",
       "000447c4                                   0.0                            0.0   \n",
       "0006a69f                                   2.0                            2.0   \n",
       "0006c192                                   3.0                            1.0   \n",
       "0009a5a9                                   0.0                            0.0   \n",
       "\n",
       "                 title_Tree Top City - Level 3  \\\n",
       "installation_id                                  \n",
       "0001e90f                                   0.0   \n",
       "000447c4                                   0.0   \n",
       "0006a69f                                   2.0   \n",
       "0006c192                                   2.0   \n",
       "0009a5a9                                   0.0   \n",
       "\n",
       "                 title_Watering Hole (Activity)  \\\n",
       "installation_id                                   \n",
       "0001e90f                                    0.0   \n",
       "000447c4                                    1.0   \n",
       "0006a69f                                    3.0   \n",
       "0006c192                                    1.0   \n",
       "0009a5a9                                    1.0   \n",
       "\n",
       "                 title_Welcome to Lost Lagoon!  type_Activity  \\\n",
       "installation_id                                                 \n",
       "0001e90f                                   1.0            3.0   \n",
       "000447c4                                   1.0            1.0   \n",
       "0006a69f                                   4.0           17.0   \n",
       "0006c192                                   4.0            8.0   \n",
       "0009a5a9                                   1.0            2.0   \n",
       "\n",
       "                 type_Assessment  type_Clip  type_Game  world_CRYSTALCAVES  \\\n",
       "installation_id                                                              \n",
       "0001e90f                     0.0        5.0        2.0                 0.0   \n",
       "000447c4                     0.0        3.0        1.0                 0.0   \n",
       "0006a69f                     6.0       37.0       20.0                 0.0   \n",
       "0006c192                     4.0       32.0        6.0                13.0   \n",
       "0009a5a9                     0.0        4.0        1.0                 0.0   \n",
       "\n",
       "                 world_MAGMAPEAK  world_NONE  world_TREETOPCITY  \\\n",
       "installation_id                                                   \n",
       "0001e90f                     7.0         1.0                2.0   \n",
       "000447c4                     4.0         1.0                0.0   \n",
       "0006a69f                    35.0         4.0               41.0   \n",
       "0006c192                    15.0         4.0               18.0   \n",
       "0009a5a9                     6.0         1.0                0.0   \n",
       "\n",
       "                 (event_count, sum)  (event_count, mean)  (event_count, std)  \\\n",
       "installation_id                                                                \n",
       "0001e90f                       1357           135.700000          230.198972   \n",
       "000447c4                        181            36.200000           54.182100   \n",
       "0006a69f                       3801            47.512500           58.236531   \n",
       "0006c192                       2224            44.480000           76.898619   \n",
       "0009a5a9                        412            58.857143           77.962445   \n",
       "\n",
       "                 (game_time, sum)  (game_time, mean)  (game_time, std)  \n",
       "installation_id                                                         \n",
       "0001e90f                  1172787      117278.700000     182750.896625  \n",
       "000447c4                   277707       55541.400000      80311.743287  \n",
       "0006a69f                  5575453       69693.162500     177206.811293  \n",
       "0006c192                  2063664       41273.280000      82496.162713  \n",
       "0009a5a9                  1854998      264999.714286     627146.960108  "
      ]
     },
     "execution_count": 30,
     "metadata": {},
     "output_type": "execute_result"
    }
   ],
   "source": [
    "%%time\n",
    "train_small = group_and_reduce(train)\n",
    "test_small = group_and_reduce(test)\n",
    "\n",
    "print(train_small.shape)\n",
    "train_small.head()"
   ]
  },
  {
   "cell_type": "markdown",
   "metadata": {},
   "source": [
    "# <a id='12'>12. Simple LGBM aggregated data with CV </a>\n",
    "<a href= '#1'> Top</a>\n",
    "\n"
   ]
  },
  {
   "cell_type": "markdown",
   "metadata": {},
   "source": [
    "[Kfold](https://machinelearningmastery.com/k-fold-cross-validation/)\n",
    "\n",
    "Cross-validation is a resampling procedure used to evaluate machine learning models on a limited data sample.\n",
    "The procedure has a single parameter called k that refers to the number of groups that a given data sample is to be split into. As such, the procedure is often called k-fold cross-validation. When a specific value for k is chosen, it may be used in place of k in the reference to the model, such as k=10 becoming 10-fold cross-validation.\n",
    "\n",
    "![](https://datavedas.com/wp-content/uploads/2018/04/image001-1.jpg)"
   ]
  },
  {
   "cell_type": "code",
   "execution_count": 31,
   "metadata": {
    "_kg_hide-input": true
   },
   "outputs": [
    {
     "name": "stdout",
     "output_type": "stream",
     "text": [
      "Training until validation scores don't improve for 50 rounds.\n",
      "[50]\ttraining's multi_logloss: 1.11862\tvalid_1's multi_logloss: 1.1621\n",
      "[100]\ttraining's multi_logloss: 1.06\tvalid_1's multi_logloss: 1.12657\n",
      "[150]\ttraining's multi_logloss: 1.01983\tvalid_1's multi_logloss: 1.10651\n",
      "[200]\ttraining's multi_logloss: 0.990046\tvalid_1's multi_logloss: 1.09266\n",
      "[250]\ttraining's multi_logloss: 0.967483\tvalid_1's multi_logloss: 1.0838\n",
      "[300]\ttraining's multi_logloss: 0.949773\tvalid_1's multi_logloss: 1.07775\n",
      "[350]\ttraining's multi_logloss: 0.935455\tvalid_1's multi_logloss: 1.07349\n",
      "[400]\ttraining's multi_logloss: 0.923632\tvalid_1's multi_logloss: 1.07026\n",
      "[450]\ttraining's multi_logloss: 0.913595\tvalid_1's multi_logloss: 1.06718\n",
      "[500]\ttraining's multi_logloss: 0.904856\tvalid_1's multi_logloss: 1.06546\n",
      "[550]\ttraining's multi_logloss: 0.897185\tvalid_1's multi_logloss: 1.06526\n",
      "[600]\ttraining's multi_logloss: 0.890333\tvalid_1's multi_logloss: 1.06502\n",
      "[650]\ttraining's multi_logloss: 0.88436\tvalid_1's multi_logloss: 1.06484\n",
      "Early stopping, best iteration is:\n",
      "[617]\ttraining's multi_logloss: 0.888239\tvalid_1's multi_logloss: 1.06462\n",
      "Training until validation scores don't improve for 50 rounds.\n",
      "[50]\ttraining's multi_logloss: 1.11905\tvalid_1's multi_logloss: 1.16025\n",
      "[100]\ttraining's multi_logloss: 1.05965\tvalid_1's multi_logloss: 1.12577\n",
      "[150]\ttraining's multi_logloss: 1.0202\tvalid_1's multi_logloss: 1.10466\n",
      "[200]\ttraining's multi_logloss: 0.991271\tvalid_1's multi_logloss: 1.08991\n",
      "[250]\ttraining's multi_logloss: 0.968756\tvalid_1's multi_logloss: 1.07997\n",
      "[300]\ttraining's multi_logloss: 0.951628\tvalid_1's multi_logloss: 1.07409\n",
      "[350]\ttraining's multi_logloss: 0.937548\tvalid_1's multi_logloss: 1.06991\n",
      "[400]\ttraining's multi_logloss: 0.925912\tvalid_1's multi_logloss: 1.06724\n",
      "[450]\ttraining's multi_logloss: 0.915893\tvalid_1's multi_logloss: 1.06577\n",
      "[500]\ttraining's multi_logloss: 0.907414\tvalid_1's multi_logloss: 1.06477\n",
      "[550]\ttraining's multi_logloss: 0.900001\tvalid_1's multi_logloss: 1.06417\n",
      "[600]\ttraining's multi_logloss: 0.893392\tvalid_1's multi_logloss: 1.06365\n",
      "[650]\ttraining's multi_logloss: 0.887454\tvalid_1's multi_logloss: 1.0633\n",
      "[700]\ttraining's multi_logloss: 0.882216\tvalid_1's multi_logloss: 1.06317\n",
      "[750]\ttraining's multi_logloss: 0.877468\tvalid_1's multi_logloss: 1.06351\n",
      "Early stopping, best iteration is:\n",
      "[706]\ttraining's multi_logloss: 0.881623\tvalid_1's multi_logloss: 1.06314\n",
      "Training until validation scores don't improve for 50 rounds.\n",
      "[50]\ttraining's multi_logloss: 1.11605\tvalid_1's multi_logloss: 1.16389\n",
      "[100]\ttraining's multi_logloss: 1.05663\tvalid_1's multi_logloss: 1.12736\n",
      "[150]\ttraining's multi_logloss: 1.01729\tvalid_1's multi_logloss: 1.1052\n",
      "[200]\ttraining's multi_logloss: 0.98892\tvalid_1's multi_logloss: 1.09144\n",
      "[250]\ttraining's multi_logloss: 0.966994\tvalid_1's multi_logloss: 1.08151\n",
      "[300]\ttraining's multi_logloss: 0.949814\tvalid_1's multi_logloss: 1.07466\n",
      "[350]\ttraining's multi_logloss: 0.935782\tvalid_1's multi_logloss: 1.06957\n",
      "[400]\ttraining's multi_logloss: 0.924066\tvalid_1's multi_logloss: 1.06615\n",
      "[450]\ttraining's multi_logloss: 0.914211\tvalid_1's multi_logloss: 1.06386\n",
      "[500]\ttraining's multi_logloss: 0.905715\tvalid_1's multi_logloss: 1.06216\n",
      "[550]\ttraining's multi_logloss: 0.898289\tvalid_1's multi_logloss: 1.06046\n",
      "[600]\ttraining's multi_logloss: 0.891714\tvalid_1's multi_logloss: 1.05904\n",
      "[650]\ttraining's multi_logloss: 0.885798\tvalid_1's multi_logloss: 1.05801\n",
      "[700]\ttraining's multi_logloss: 0.880647\tvalid_1's multi_logloss: 1.05761\n",
      "[750]\ttraining's multi_logloss: 0.876007\tvalid_1's multi_logloss: 1.05726\n",
      "[800]\ttraining's multi_logloss: 0.871767\tvalid_1's multi_logloss: 1.05729\n",
      "Early stopping, best iteration is:\n",
      "[773]\ttraining's multi_logloss: 0.87398\tvalid_1's multi_logloss: 1.05713\n",
      "Training until validation scores don't improve for 50 rounds.\n",
      "[50]\ttraining's multi_logloss: 1.12496\tvalid_1's multi_logloss: 1.14028\n",
      "[100]\ttraining's multi_logloss: 1.06484\tvalid_1's multi_logloss: 1.10452\n",
      "[150]\ttraining's multi_logloss: 1.02482\tvalid_1's multi_logloss: 1.08312\n",
      "[200]\ttraining's multi_logloss: 0.99562\tvalid_1's multi_logloss: 1.06911\n",
      "[250]\ttraining's multi_logloss: 0.972828\tvalid_1's multi_logloss: 1.05907\n",
      "[300]\ttraining's multi_logloss: 0.955237\tvalid_1's multi_logloss: 1.05321\n",
      "[350]\ttraining's multi_logloss: 0.940867\tvalid_1's multi_logloss: 1.04967\n",
      "[400]\ttraining's multi_logloss: 0.929056\tvalid_1's multi_logloss: 1.04694\n",
      "[450]\ttraining's multi_logloss: 0.919029\tvalid_1's multi_logloss: 1.04458\n",
      "[500]\ttraining's multi_logloss: 0.910169\tvalid_1's multi_logloss: 1.04285\n",
      "[550]\ttraining's multi_logloss: 0.902624\tvalid_1's multi_logloss: 1.04172\n",
      "[600]\ttraining's multi_logloss: 0.895961\tvalid_1's multi_logloss: 1.04099\n",
      "[650]\ttraining's multi_logloss: 0.890041\tvalid_1's multi_logloss: 1.04073\n",
      "[700]\ttraining's multi_logloss: 0.884724\tvalid_1's multi_logloss: 1.04066\n",
      "Early stopping, best iteration is:\n",
      "[662]\ttraining's multi_logloss: 0.888714\tvalid_1's multi_logloss: 1.04064\n",
      "Training until validation scores don't improve for 50 rounds.\n",
      "[50]\ttraining's multi_logloss: 1.12524\tvalid_1's multi_logloss: 1.13614\n",
      "[100]\ttraining's multi_logloss: 1.06797\tvalid_1's multi_logloss: 1.09707\n",
      "[150]\ttraining's multi_logloss: 1.02843\tvalid_1's multi_logloss: 1.07304\n",
      "[200]\ttraining's multi_logloss: 1.00011\tvalid_1's multi_logloss: 1.05904\n",
      "[250]\ttraining's multi_logloss: 0.978406\tvalid_1's multi_logloss: 1.0504\n",
      "[300]\ttraining's multi_logloss: 0.961403\tvalid_1's multi_logloss: 1.04371\n",
      "[350]\ttraining's multi_logloss: 0.947539\tvalid_1's multi_logloss: 1.03848\n",
      "[400]\ttraining's multi_logloss: 0.93584\tvalid_1's multi_logloss: 1.03446\n",
      "[450]\ttraining's multi_logloss: 0.925912\tvalid_1's multi_logloss: 1.0314\n",
      "[500]\ttraining's multi_logloss: 0.917265\tvalid_1's multi_logloss: 1.02921\n",
      "[550]\ttraining's multi_logloss: 0.909606\tvalid_1's multi_logloss: 1.02751\n",
      "[600]\ttraining's multi_logloss: 0.902857\tvalid_1's multi_logloss: 1.02621\n",
      "[650]\ttraining's multi_logloss: 0.896929\tvalid_1's multi_logloss: 1.02507\n",
      "[700]\ttraining's multi_logloss: 0.891691\tvalid_1's multi_logloss: 1.02432\n",
      "[750]\ttraining's multi_logloss: 0.886933\tvalid_1's multi_logloss: 1.02365\n",
      "[800]\ttraining's multi_logloss: 0.882621\tvalid_1's multi_logloss: 1.02322\n",
      "[850]\ttraining's multi_logloss: 0.878679\tvalid_1's multi_logloss: 1.02294\n",
      "[900]\ttraining's multi_logloss: 0.87514\tvalid_1's multi_logloss: 1.02305\n",
      "Early stopping, best iteration is:\n",
      "[862]\ttraining's multi_logloss: 0.877794\tvalid_1's multi_logloss: 1.02289\n",
      "CPU times: user 11min 57s, sys: 7.53 s, total: 12min 4s\n",
      "Wall time: 3min 4s\n"
     ]
    }
   ],
   "source": [
    "%%time\n",
    "from sklearn.model_selection import KFold\n",
    "small_labels = train_labels[['installation_id', 'accuracy_group']].set_index('installation_id')\n",
    "train_joined = train_small.join(small_labels).dropna()\n",
    "kf = KFold(n_splits=5, random_state=2019)\n",
    "X = train_joined.drop(columns='accuracy_group').values\n",
    "y = train_joined['accuracy_group'].values.astype(np.int32)\n",
    "y_pred = np.zeros((len(test_small), 4))\n",
    "for train, test in kf.split(X):\n",
    "    x_train, x_val, y_train, y_val = X[train], X[test], y[train], y[test]\n",
    "    train_set = lgb.Dataset(x_train, y_train)\n",
    "    val_set = lgb.Dataset(x_val, y_val)\n",
    "\n",
    "    params = {\n",
    "        'learning_rate': 0.01,\n",
    "        'bagging_fraction': 0.9,\n",
    "        'feature_fraction': 0.9,\n",
    "        'num_leaves': 50,\n",
    "        'lambda_l1': 0.1,\n",
    "        'lambda_l2': 1,\n",
    "        'metric': 'multiclass',\n",
    "        'objective': 'multiclass',\n",
    "        'num_classes': 4,\n",
    "        'random_state': 2019\n",
    "    }\n",
    "\n",
    "    model = lgb.train(params, train_set, num_boost_round=5000, early_stopping_rounds=50, valid_sets=[train_set, val_set], verbose_eval=50)\n",
    "    y_pred += model.predict(test_small)"
   ]
  },
  {
   "cell_type": "markdown",
   "metadata": {},
   "source": [
    "# <a id='13'>13. Submission </a>\n",
    "<a href= '#1'> Top</a>\n",
    "\n"
   ]
  },
  {
   "cell_type": "code",
   "execution_count": 32,
   "metadata": {
    "_kg_hide-input": true
   },
   "outputs": [
    {
     "name": "stdout",
     "output_type": "stream",
     "text": [
      "CPU times: user 1.95 s, sys: 343 ms, total: 2.3 s\n",
      "Wall time: 4.7 s\n"
     ]
    }
   ],
   "source": [
    "%%time\n",
    "y_pred = y_pred.argmax(axis=1)\n",
    "test_small['accuracy_group'] = y_pred\n",
    "test_small[['accuracy_group']].to_csv('submission.csv')"
   ]
  },
  {
   "cell_type": "markdown",
   "metadata": {},
   "source": [
    "# <a id='14'>14. Evaluation </a>\n",
    "<a href= '#1'> Top</a>\n",
    "\n"
   ]
  },
  {
   "cell_type": "code",
   "execution_count": 33,
   "metadata": {
    "_kg_hide-input": true
   },
   "outputs": [
    {
     "name": "stdout",
     "output_type": "stream",
     "text": [
      "              precision    recall  f1-score   support\n",
      "\n",
      "           0       0.56      0.55      0.56       843\n",
      "           1       0.66      0.04      0.07       504\n",
      "           2       0.29      0.02      0.03       397\n",
      "           3       0.59      0.87      0.70      1792\n",
      "\n",
      "    accuracy                           0.58      3536\n",
      "   macro avg       0.53      0.37      0.34      3536\n",
      "weighted avg       0.56      0.58      0.50      3536\n",
      "\n",
      "CPU times: user 2.06 s, sys: 3.03 ms, total: 2.07 s\n",
      "Wall time: 521 ms\n"
     ]
    }
   ],
   "source": [
    "%%time\n",
    "val_pred = model.predict(x_val).argmax(axis=1)\n",
    "print(classification_report(y_val, val_pred))"
   ]
  },
  {
   "cell_type": "markdown",
   "metadata": {},
   "source": [
    "# <a id='15'>15. Links for the Game </a>\n",
    "<a href= '#1'> Top</a>\n",
    "\n",
    "\n"
   ]
  },
  {
   "cell_type": "markdown",
   "metadata": {},
   "source": [
    "**Mushroom Sorter**"
   ]
  },
  {
   "cell_type": "code",
   "execution_count": 34,
   "metadata": {
    "_kg_hide-input": true
   },
   "outputs": [
    {
     "data": {
      "text/html": [
       "<iframe width=\"1106\" height=\"622\" src=\"https://www.youtube.com/embed/1ejHigxuR2Q\" frameborder=\"0\" allow=\"accelerometer; autoplay; encrypted-media; gyroscope; picture-in-picture\" allowfullscreen></iframe>"
      ],
      "text/plain": [
       "<IPython.core.display.HTML object>"
      ]
     },
     "execution_count": 34,
     "metadata": {},
     "output_type": "execute_result"
    }
   ],
   "source": [
    "\n",
    "HTML('<iframe width=\"1106\" height=\"622\" src=\"https://www.youtube.com/embed/1ejHigxuR2Q\" frameborder=\"0\" allow=\"accelerometer; autoplay; encrypted-media; gyroscope; picture-in-picture\" allowfullscreen></iframe>')"
   ]
  },
  {
   "cell_type": "markdown",
   "metadata": {},
   "source": [
    "  >  ⚡ Please, you can use parts of this notebook in your own scripts or kernels, no problem, but please give credit (for example link back to this, see this...)"
   ]
  },
  {
   "cell_type": "markdown",
   "metadata": {},
   "source": [
    "# <a id='16'>General findings</a>\n",
    "<a href='#1'>Top</a>\n"
   ]
  },
  {
   "cell_type": "markdown",
   "metadata": {},
   "source": [
    "- **QWK Computation**\n",
    "\n",
    "    https://www.kaggle.com/c/data-science-bowl-2019/discussion/114133#latest-670484\n",
    "\n",
    "    https://www.kaggle.com/c/data-science-bowl-2019/discussion/114138#latest-667441\n",
    "\n",
    "    https://www.kaggle.com/c/data-science-bowl-2019/discussion/114135#latest-656785\n",
    "\n",
    "    https://www.kaggle.com/c/data-science-bowl-2019/discussion/114472#latest-658804\n",
    "\n",
    "- **Baseline**\n",
    "   \n",
    "   https://www.kaggle.com/c/data-science-bowl-2019/discussion/114376#latest-659424\n",
    "   \n",
    "   https://www.kaggle.com/c/data-science-bowl-2019/discussion/114783#latest-671345\n"
   ]
  },
  {
   "cell_type": "markdown",
   "metadata": {},
   "source": [
    "# <a id='17'>Top Notebooks</a>\n",
    "<a href='#1'>Top</a>\n",
    "\n",
    "\n"
   ]
  },
  {
   "cell_type": "markdown",
   "metadata": {},
   "source": [
    "### XGBoost & Feature Selection DSBowl 🥣 🥣 by [@shahules](https://www.kaggle.com/shahules/xgboost-feature-selection-dsbowl)\n",
    "* You will learn\n",
    "    - Data Preparation and Evaluation\n",
    "    - Using XGBoost with StratifiedKFold\n",
    "    - Interpreting a ML model with Confidence using [SHAP](https://shap.readthedocs.io/en/latest/)\n",
    "\n",
    "Souce: https://www.kaggle.com/shahules/xgboost-feature-selection-dsbowl \n",
    "### 📒👦👧 DS Bowl - Start here: A GENTLE Introduction 🥣 🥣 by [@caesarlupum](https://www.kaggle.com/caesarlupum/ds-bowl-start-here-a-gentle-introduction)\n",
    "* You will learn\n",
    "    - Where does the data for the competition come from?\n",
    "    - Data Description\n",
    "    - Exploratory Data Analysis\n",
    "    - Simple Baseline\n",
    "    - Simple LGBM aggregated data with CV\n",
    "\n",
    "Souce:  https://www.kaggle.com/caesarlupum/ds-bowl-start-here-a-gentle-introduction\n",
    "\n",
    "     \n",
    "### OOP approach to FE and models by [@artgor ](https://www.kaggle.com/artgor/oop-approach-to-fe-and-models)    \n",
    "* You will learn\n",
    "    - Data Preparation and learn/use a class for generating features\n",
    "    - Training xgb / Training catboost\n",
    "\n",
    "Source: https://www.kaggle.com/artgor/oop-approach-to-fe-and-models\n",
    "\n",
    "### Data Science Bowl 2019 EDA and Baseline by [@erikbruin ](https://www.kaggle.com/erikbruin/data-science-bowl-2019-eda-and-baseline)    \n",
    "* You will learn\n",
    "    - Understanding the train data\n",
    "    - Understanding the test set\n",
    "    - Understanding and visualizing the train labels\n",
    "    - Feature engineering\n",
    "\n",
    "Source: https://www.kaggle.com/erikbruin/data-science-bowl-2019-eda-and-baseline\n",
    "\n",
    "### A new baseline for DSB 2019 - Catboost model by [@mhviraf ](https://www.kaggle.com/mhviraf/a-new-baseline-for-dsb-2019-catboost-model)    \n",
    "* You will learn\n",
    "    - Data Preparation \n",
    "    - Baseline model with Catboost \n",
    "\n",
    "Source: https://www.kaggle.com/mhviraf/a-new-baseline-for-dsb-2019-catboost-model\n",
    "\n",
    "### 🚸 2019 Data Science Bowl - An Introduction by [@robikscube ](https://www.kaggle.com/robikscube/2019-data-science-bowl-an-introduction)    \n",
    "* You will learn\n",
    "    - Data Preparation\n",
    "    - Understanding the target\n",
    "    - Data Visualization  \n",
    "    - Baseline model \n",
    "Source: https://www.kaggle.com/robikscube/2019-data-science-bowl-an-introduction\n",
    "\n",
    "### A baseline for DSB 2019 by [@mhviraf ](https://www.kaggle.com/mhviraf/a-baseline-for-dsb-2019)    \n",
    "* You will learn  \n",
    "    - Baseline model \n",
    "Source: https://www.kaggle.com/mhviraf/a-baseline-for-dsb-2019\n",
    "\n",
    "### 2019 Data Science Bowl EDA by [@gpreda ](https://www.kaggle.com/gpreda/2019-data-science-bowl-eda)    \n",
    "* You will learn  \n",
    "    - Prepare the data analysis\n",
    "    -Data exploration\n",
    "    -Glimpse the data\n",
    "    -Missing data\n",
    "    -Unique values\n",
    "    -Most frequent values\n",
    "    -Values distribution\n",
    "    -Extract features from train/event_data\n",
    "    -Extract features from specs/args\n",
    "    -Merged data distribution\n",
    "Source: https://www.kaggle.com/gpreda/2019-data-science-bowl-eda\n",
    "\n",
    "### Convert to Regression by [@braquino ](https://www.kaggle.com/braquino/convert-to-regression)    \n",
    "* You will learn  \n",
    "    - Baseline model including a feature selection part\n",
    "    - Cohen cappa score of 0.456 (lb) with a local cv score of 0.529\n",
    "    - Add/remove features to improve local cv\n",
    "Source: https://www.kaggle.com/braquino/convert-to-regression\n",
    "\n",
    "### Quick and dirty regression by [@artgor ](https://www.kaggle.com/artgor/quick-and-dirty-regression)    \n",
    "* You will learn  \n",
    "    - Baseline model including a feature selection part\n",
    "    - Add/remove features to improve local cv\n",
    "    - Finding optimal coefficients for thresholds\n",
    "Source: https://www.kaggle.com/artgor/quick-and-dirty-regression\n",
    "\n",
    "\n"
   ]
  },
  {
   "cell_type": "markdown",
   "metadata": {},
   "source": [
    "\n",
    "<html>\n",
    "<body>\n",
    "\n",
    "<p><font size=\"5\" color=\"Blue\">Remember the upvote button is next to the fork button, and it's free too! ;)</font></p>\n",
    "<p><font size=\"4\" color=\"Purple\">Don't hesitate to give your suggestions in the comment section</font></p>\n",
    "\n",
    "</body>\n",
    "</html>\n"
   ]
  },
  {
   "cell_type": "markdown",
   "metadata": {},
   "source": [
    "## Final"
   ]
  }
 ],
 "metadata": {
  "kernelspec": {
   "display_name": "Python 3",
   "language": "python",
   "name": "python3"
  },
  "language_info": {
   "codemirror_mode": {
    "name": "ipython",
    "version": 3
   },
   "file_extension": ".py",
   "mimetype": "text/x-python",
   "name": "python",
   "nbconvert_exporter": "python",
   "pygments_lexer": "ipython3",
   "version": "3.6.6"
  }
 },
 "nbformat": 4,
 "nbformat_minor": 1
}
