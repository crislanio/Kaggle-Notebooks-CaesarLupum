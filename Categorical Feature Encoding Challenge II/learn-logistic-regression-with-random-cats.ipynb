{
 "cells": [
  {
   "cell_type": "markdown",
   "metadata": {},
   "source": [
    "## Categorical Feature Encoding Challenge 2 WITH MEMES&CATS\n",
    "### Come on, come learn too!\n",
    "![](https://media1.giphy.com/media/E0cyxhawhe9dm/200.webp?cid=790b7611f3ad87c38ca93cd44145076323983ac377bddc6c&rid=200.webp)\n",
    "[Nyan Cat [original]](https://youtu.be/QH2-TGUlwu4)\n",
    "\n",
    "[Crislânio Macêdo](https://medium.com/sapere-aude-tech) - **Kernel Created** - January, 08th, 2019. **Last Update**- January, 08th, 2019\n",
    "\n",
    " Learn Logistic Regression with Cats 🐱: [ 😵 Logistic Regression & 😺 Random Cats ](https://www.kaggle.com/caesarlupum/learn-logistic-regression-with-random-cats)\n",
    "\n",
    "\n",
    "\n",
    "- [**Github**](https://github.com/crislanio)\n",
    "- [**Linkedin**](https://www.linkedin.com/in/crislanio/)\n",
    "- [**Medium**](https://medium.com/sapere-aude-tech)\n",
    "- [**Quora**](https://www.quora.com/profile/Crislanio)\n",
    "- [**Ensina.AI**](https://medium.com/ensina-ai/an%C3%A1lise-dos-dados-abertos-do-governo-federal-ba65af8c421c)\n",
    "- [**Hackerrank**](https://www.hackerrank.com/crislanio_ufc?hr_r=1)\n",
    "- [**Blog**](https://medium.com/@crislanio.ufc)\n",
    "- [**Personal Page**](https://crislanio.wordpress.com/about)\n",
    "- [**Twitter**](https://twitter.com/crs_macedo)\n",
    "\n",
    "----------\n",
    "\n"
   ]
  },
  {
   "cell_type": "markdown",
   "metadata": {},
   "source": [
    "\n",
    "# Categorical Feature Encoding Challenge II\n",
    "## Binary classification, with every feature a categorical (and interactions!)\n",
    "## About this Competition\n",
    "\n",
    "![](https://media.giphy.com/media/H4DjXQXamtTiIuCcRU/giphy.gif)\n",
    "\n",
    "> #### In this competition, you will be predicting the probability [0, 1] of a binary target column.\n",
    "\n",
    "The data contains binary features (bin_*), nominal features (nom_*), ordinal features (ord_*) as well as (potentially cyclical) day (of the week) and month features. The string ordinal features ord_{3-5} are lexically ordered according to string.ascii_letters.\n",
    "Since the purpose of this competition is to explore various encoding strategies, the data has been simplified in that (1) there are no missing values, and (2) the test set does not contain any unseen feature values (See this). (Of course, in real-world settings both of these factors are often important to consider!)\n",
    "\n",
    "#### Files\n",
    "- train.csv - the training set\n",
    "- test.csv - the test set; you must make predictions against this data\n",
    "- sample_submission.csv - a sample submission file in the correct format\n",
    "\n"
   ]
  },
  {
   "cell_type": "markdown",
   "metadata": {},
   "source": [
    "###  **I'm ready** !\n",
    "\n",
    "![](https://media0.giphy.com/media/VbnUQpnihPSIgIXuZv/giphy.webp?cid=790b7611f3ad87c38ca93cd44145076323983ac377bddc6c&rid=giphy.webp)\n",
    "\n",
    "[Dank Cat Memes Compilation](https://youtu.be/jNE5A86OryY)\n"
   ]
  },
  {
   "cell_type": "markdown",
   "metadata": {},
   "source": [
    "# Imports\n",
    "> We are using a typical data science stack: ``numpy``, ``pandas``, ``sklearn``, ``matplotlib``"
   ]
  },
  {
   "cell_type": "code",
   "execution_count": 1,
   "metadata": {
    "_cell_guid": "b1076dfc-b9ad-4769-8c92-a6c4dae69d19",
    "_kg_hide-input": true,
    "_uuid": "8f2839f25d086af736a60e9eeb907d3b93b6e0e5"
   },
   "outputs": [],
   "source": [
    "import numpy as np \n",
    "import pandas as pd \n",
    "import gc\n",
    "import warnings\n",
    "warnings.filterwarnings(\"ignore\", category=DeprecationWarning)\n",
    "warnings.filterwarnings(\"ignore\", category=UserWarning)\n",
    "warnings.filterwarnings(\"ignore\", category=FutureWarning)\n",
    "from IPython.display import HTML\n",
    "pd.set_option('max_columns', 50)"
   ]
  },
  {
   "cell_type": "markdown",
   "metadata": {},
   "source": [
    "### So Excited ! I can't Wait !\n",
    "![](https://media0.giphy.com/media/JIX9t2j0ZTN9S/giphy.webp?cid=790b7611f3ad87c38ca93cd44145076323983ac377bddc6c&rid=giphy.webp)\n",
    "\n",
    "[MEOWWWW | Yelling Cat Meme](https://youtu.be/hDUJIPYEcLU?t=41)"
   ]
  },
  {
   "cell_type": "markdown",
   "metadata": {},
   "source": [
    "## Logistic Regression (Binary Classification)"
   ]
  },
  {
   "cell_type": "code",
   "execution_count": 2,
   "metadata": {
    "_kg_hide-input": true
   },
   "outputs": [
    {
     "data": {
      "text/html": [
       "<iframe width=\"921\" height=\"587\" src=\"https://www.youtube.com/embed/zM4VZR0px8E\" frameborder=\"0\" allow=\"accelerometer; autoplay; encrypted-media; gyroscope; picture-in-picture\" allowfullscreen></iframe>"
      ],
      "text/plain": [
       "<IPython.core.display.HTML object>"
      ]
     },
     "execution_count": 2,
     "metadata": {},
     "output_type": "execute_result"
    }
   ],
   "source": [
    "HTML('<iframe width=\"921\" height=\"587\" src=\"https://www.youtube.com/embed/zM4VZR0px8E\" frameborder=\"0\" allow=\"accelerometer; autoplay; encrypted-media; gyroscope; picture-in-picture\" allowfullscreen></iframe>' )"
   ]
  },
  {
   "cell_type": "markdown",
   "metadata": {},
   "source": [
    "# Read in Data\n",
    "> First, we can list all the available data files. There are a total of 3 files: 1 main file for training (with target) 1 main file for testing (without the target), 1 example submission file."
   ]
  },
  {
   "cell_type": "code",
   "execution_count": 3,
   "metadata": {
    "_cell_guid": "79c7e3d0-c299-4dcb-8224-4455121ee9b0",
    "_kg_hide-input": true,
    "_uuid": "d629ff2d2480ee46fbb7e2d37f6b5fab8052498a"
   },
   "outputs": [],
   "source": [
    "train = pd.read_csv('../input/cat-in-the-dat-ii/train.csv')\n",
    "test = pd.read_csv('../input/cat-in-the-dat-ii/test.csv')"
   ]
  },
  {
   "cell_type": "code",
   "execution_count": 4,
   "metadata": {
    "_kg_hide-input": true
   },
   "outputs": [],
   "source": [
    "labels = train.pop('target')\n",
    "train_id = train.pop(\"id\")\n",
    "test_id = test.pop(\"id\")"
   ]
  },
  {
   "cell_type": "markdown",
   "metadata": {},
   "source": [
    "### Catching Cats\n",
    "![Catching Cats](https://miro.medium.com/proxy/0*5KosvsbnMQSOFABh.gif)\n",
    "[DANKEST CAT MEMES](https://youtu.be/AehCZYWweFo)"
   ]
  },
  {
   "cell_type": "markdown",
   "metadata": {},
   "source": [
    "# Get Dummies\n",
    "> Convert categorical variable into dummy/indicator variables [1]"
   ]
  },
  {
   "cell_type": "code",
   "execution_count": 5,
   "metadata": {},
   "outputs": [],
   "source": [
    "labels = labels.values\n",
    "data = pd.concat([train, test])\n",
    "\n",
    "columns = [i for i in data.columns]\n",
    "dummies = pd.get_dummies(data,columns=columns, drop_first=True,sparse=True)\n",
    "\n",
    "train = dummies.iloc[:train.shape[0], :]\n",
    "test = dummies.iloc[train.shape[0]:, :]\n",
    "\n",
    "del dummies,data\n",
    "gc.collect()\n",
    "\n",
    "train = train.sparse.to_coo().tocsr()\n",
    "test = test.sparse.to_coo().tocsr()"
   ]
  },
  {
   "cell_type": "markdown",
   "metadata": {},
   "source": [
    "![](https://media0.giphy.com/media/Nm8ZPAGOwZUQM/giphy.gif?cid=790b761175d6f9511d6eff1d6b0eeaaeb300715132180238&rid=giphy.gif)\n",
    "[BEWARE! Extremely angry cats!](https://youtu.be/HBFBmvt6ZIU?t=42)"
   ]
  },
  {
   "cell_type": "markdown",
   "metadata": {},
   "source": [
    "\n",
    "# Make Prediction\n",
    "## Logistic Regression"
   ]
  },
  {
   "cell_type": "code",
   "execution_count": 6,
   "metadata": {},
   "outputs": [
    {
     "data": {
      "text/plain": [
       "array([0.03784417, 0.07731214, 0.25414988, ..., 0.0987523 , 0.16344834,\n",
       "       0.07161734])"
      ]
     },
     "execution_count": 6,
     "metadata": {},
     "output_type": "execute_result"
    }
   ],
   "source": [
    "from sklearn.linear_model import LogisticRegression\n",
    "lr = LogisticRegression(C=0.20, solver=\"lbfgs\", tol=0.020, max_iter=2020)\n",
    "\n",
    "lr.fit(train, labels)\n",
    "lr_pred = lr.predict_proba(train)[:, 1]\n",
    "lr_pred"
   ]
  },
  {
   "cell_type": "markdown",
   "metadata": {},
   "source": [
    "### Its easy, maybe not !\n",
    "![](https://media1.giphy.com/media/l0MYNB04rBb51QNtC/giphy.webp?cid=790b761175d6f9511d6eff1d6b0eeaaeb300715132180238&rid=giphy.webp)\n",
    "[Cat attacking people Compilation](https://youtu.be/HrgbZlE7q7k?t=2)\n"
   ]
  },
  {
   "cell_type": "markdown",
   "metadata": {},
   "source": [
    "# Evaluate"
   ]
  },
  {
   "cell_type": "code",
   "execution_count": 7,
   "metadata": {},
   "outputs": [
    {
     "name": "stdout",
     "output_type": "stream",
     "text": [
      "0.795520\n"
     ]
    }
   ],
   "source": [
    "from sklearn.metrics import roc_auc_score\n",
    "score = roc_auc_score(labels, lr_pred)\n",
    "\n",
    "print(f\"{score:.6f}\")"
   ]
  },
  {
   "cell_type": "markdown",
   "metadata": {},
   "source": [
    "### I'm win\n",
    "\n",
    "![](https://media0.giphy.com/media/1iu8uG2cjYFZS6wTxv/giphy.webp?cid=790b761175d6f9511d6eff1d6b0eeaaeb300715132180238&rid=giphy.webp)\n",
    "[DANKEST CAT MEMES#2](https://youtu.be/HEX2MK9bcos)\n"
   ]
  },
  {
   "cell_type": "markdown",
   "metadata": {},
   "source": [
    "## Sample Submission"
   ]
  },
  {
   "cell_type": "code",
   "execution_count": 8,
   "metadata": {
    "_kg_hide-input": true
   },
   "outputs": [],
   "source": [
    "submission = pd.read_csv(\"/kaggle/input/cat-in-the-dat-ii/sample_submission.csv\")\n",
    "submission[\"id\"] = test_id\n",
    "submission[\"target\"] = lr.predict_proba(test)[:, 1]\n",
    "submission.to_csv(\"submission.csv\", index=False)"
   ]
  },
  {
   "cell_type": "code",
   "execution_count": 9,
   "metadata": {
    "_kg_hide-input": true
   },
   "outputs": [
    {
     "data": {
      "text/html": [
       "<div>\n",
       "<style scoped>\n",
       "    .dataframe tbody tr th:only-of-type {\n",
       "        vertical-align: middle;\n",
       "    }\n",
       "\n",
       "    .dataframe tbody tr th {\n",
       "        vertical-align: top;\n",
       "    }\n",
       "\n",
       "    .dataframe thead th {\n",
       "        text-align: right;\n",
       "    }\n",
       "</style>\n",
       "<table border=\"1\" class=\"dataframe\">\n",
       "  <thead>\n",
       "    <tr style=\"text-align: right;\">\n",
       "      <th></th>\n",
       "      <th>id</th>\n",
       "      <th>target</th>\n",
       "    </tr>\n",
       "  </thead>\n",
       "  <tbody>\n",
       "    <tr>\n",
       "      <th>0</th>\n",
       "      <td>600000</td>\n",
       "      <td>0.091348</td>\n",
       "    </tr>\n",
       "    <tr>\n",
       "      <th>1</th>\n",
       "      <td>600001</td>\n",
       "      <td>0.236426</td>\n",
       "    </tr>\n",
       "    <tr>\n",
       "      <th>2</th>\n",
       "      <td>600002</td>\n",
       "      <td>0.149817</td>\n",
       "    </tr>\n",
       "    <tr>\n",
       "      <th>3</th>\n",
       "      <td>600003</td>\n",
       "      <td>0.190348</td>\n",
       "    </tr>\n",
       "    <tr>\n",
       "      <th>4</th>\n",
       "      <td>600004</td>\n",
       "      <td>0.124916</td>\n",
       "    </tr>\n",
       "  </tbody>\n",
       "</table>\n",
       "</div>"
      ],
      "text/plain": [
       "       id    target\n",
       "0  600000  0.091348\n",
       "1  600001  0.236426\n",
       "2  600002  0.149817\n",
       "3  600003  0.190348\n",
       "4  600004  0.124916"
      ]
     },
     "execution_count": 9,
     "metadata": {},
     "output_type": "execute_result"
    }
   ],
   "source": [
    "submission.head()"
   ]
  },
  {
   "cell_type": "markdown",
   "metadata": {},
   "source": [
    "# General findinds\n",
    "\n",
    "#### Read Material from Competition  \n",
    "- [Best material from all comps!](https://www.kaggle.com/c/cat-in-the-dat-ii/discussion/124773) by [Brunhs](https://www.kaggle.com/brunhs)\n",
    "\n",
    "- [CATEGORICAL MATERIAL SURVEY🐱 & Record Linkage](https://www.kaggle.com/c/cat-in-the-dat-ii/discussion/124773) by [Caesar Lupum](https://www.kaggle.com/caesarlupum)\n",
    "\n",
    "#### Categorical feature encoding  \n",
    "\n",
    "- [Categorical feature encoding with TensorFlow](https://www.kaggle.com/c/cat-in-the-dat-ii/discussion/124217) by [Luca Massaron](https://www.kaggle.com/lucamassaron)\n",
    "\n",
    "\n"
   ]
  },
  {
   "cell_type": "markdown",
   "metadata": {},
   "source": [
    "# References\n",
    "- [Pandas Get Dummies](https://pandas.pydata.org/pandas-docs/stable/reference/api/pandas.get_dummies.html)\n",
    "- [Kernel Logistic Regression by Martin Matta](https://www.kaggle.com/martin1234567890/logistic-regression)\n"
   ]
  },
  {
   "cell_type": "markdown",
   "metadata": {},
   "source": [
    "<html>\n",
    "<body>\n",
    "<p><font size=\"4\" color=\"blue\">If you like my kernel please consider upvoting it</font></p>\n",
    "<p><font size=\"3\" color=\"purple\">Remember the upvote button is next to the fork button, and it's free too! ;)</font></p>\n",
    "</body>\n",
    "</html>"
   ]
  },
  {
   "cell_type": "markdown",
   "metadata": {},
   "source": [
    "# Final"
   ]
  }
 ],
 "metadata": {
  "kernelspec": {
   "display_name": "Python 3",
   "language": "python",
   "name": "python3"
  },
  "language_info": {
   "codemirror_mode": {
    "name": "ipython",
    "version": 3
   },
   "file_extension": ".py",
   "mimetype": "text/x-python",
   "name": "python",
   "nbconvert_exporter": "python",
   "pygments_lexer": "ipython3",
   "version": "3.6.6"
  }
 },
 "nbformat": 4,
 "nbformat_minor": 1
}
